{
  "nbformat": 4,
  "nbformat_minor": 0,
  "metadata": {
    "colab": {
      "provenance": [],
      "mount_file_id": "1Tb1NLdmYlrCBLHjEzKEg0aGpx9Xnge1B",
      "authorship_tag": "ABX9TyNsrfrP0hqUmmPBvgFSPKMT",
      "include_colab_link": true
    },
    "kernelspec": {
      "name": "python3",
      "display_name": "Python 3"
    },
    "language_info": {
      "name": "python"
    },
    "accelerator": "GPU",
    "gpuClass": "standard"
  },
  "cells": [
    {
      "cell_type": "markdown",
      "metadata": {
        "id": "view-in-github",
        "colab_type": "text"
      },
      "source": [
        "<a href=\"https://colab.research.google.com/github/neethak/FDP_DL-adishankara/blob/main/CNN.ipynb\" target=\"_parent\"><img src=\"https://colab.research.google.com/assets/colab-badge.svg\" alt=\"Open In Colab\"/></a>"
      ]
    },
    {
      "cell_type": "code",
      "execution_count": null,
      "metadata": {
        "id": "h7uzOjUEDSUI"
      },
      "outputs": [],
      "source": [
        "import os\n",
        "os.chdir('/content/drive/MyDrive/FDP_DL@ASIET')"
      ]
    },
    {
      "cell_type": "code",
      "source": [
        "pwd()"
      ],
      "metadata": {
        "colab": {
          "base_uri": "https://localhost:8080/",
          "height": 35
        },
        "id": "wQkT-6gOEadl",
        "outputId": "fb327708-e058-4503-e733-9e65037b7a98"
      },
      "execution_count": null,
      "outputs": [
        {
          "output_type": "execute_result",
          "data": {
            "text/plain": [
              "'/content/drive/MyDrive/FDP_DL@ASIET'"
            ],
            "application/vnd.google.colaboratory.intrinsic+json": {
              "type": "string"
            }
          },
          "metadata": {},
          "execution_count": 3
        }
      ]
    },
    {
      "cell_type": "code",
      "source": [
        "from ast import increment_lineno\n",
        "import tensorflow as tf\n",
        "from tensorflow import keras\n",
        "tf.random.set_seed(42)\n",
        "import numpy as np\n",
        "np.random.seed(42)\n",
        "import matplotlib.pyplot as plt\n",
        "%matplotlib inline\n",
        "import glob\n",
        "import PIL\n",
        "from PIL import Image\n"
      ],
      "metadata": {
        "id": "g_CHBMHBEsQl"
      },
      "execution_count": null,
      "outputs": []
    },
    {
      "cell_type": "code",
      "source": [
        "!unzip '/content/drive/MyDrive/FDP_DL@ASIET/Flower_dataset.zip' -d '/content/drive/MyDrive/FDP_DL@ASIET/Flower_dataset'"
      ],
      "metadata": {
        "colab": {
          "base_uri": "https://localhost:8080/"
        },
        "id": "s-_V0DkJH-x3",
        "outputId": "db564c08-0617-409b-c7fd-33075d4df216"
      },
      "execution_count": null,
      "outputs": [
        {
          "output_type": "stream",
          "name": "stdout",
          "text": [
            "Archive:  /content/drive/MyDrive/FDP_DL@ASIET/Flower_dataset.zip\n",
            "   creating: /content/drive/MyDrive/FDP_DL@ASIET/Flower_dataset/tiny_FR/\n",
            "   creating: /content/drive/MyDrive/FDP_DL@ASIET/Flower_dataset/tiny_FR/daisy/\n",
            "  inflating: /content/drive/MyDrive/FDP_DL@ASIET/Flower_dataset/tiny_FR/daisy/100080576_f52e8ee070_n.jpg  \n",
            "  inflating: /content/drive/MyDrive/FDP_DL@ASIET/Flower_dataset/tiny_FR/daisy/102841525_bd6628ae3c.jpg  \n",
            "  inflating: /content/drive/MyDrive/FDP_DL@ASIET/Flower_dataset/tiny_FR/daisy/1031799732_e7f4008c03.jpg  \n",
            "  inflating: /content/drive/MyDrive/FDP_DL@ASIET/Flower_dataset/tiny_FR/daisy/105806915_a9c13e2106_n.jpg  \n",
            "  inflating: /content/drive/MyDrive/FDP_DL@ASIET/Flower_dataset/tiny_FR/daisy/107592979_aaa9cdfe78_m.jpg  \n",
            "  inflating: /content/drive/MyDrive/FDP_DL@ASIET/Flower_dataset/tiny_FR/daisy/1140299375_3aa7024466.jpg  \n",
            "  inflating: /content/drive/MyDrive/FDP_DL@ASIET/Flower_dataset/tiny_FR/daisy/1150395827_6f94a5c6e4_n.jpg  \n",
            "  inflating: /content/drive/MyDrive/FDP_DL@ASIET/Flower_dataset/tiny_FR/daisy/11642632_1e7627a2cc.jpg  \n",
            "  inflating: /content/drive/MyDrive/FDP_DL@ASIET/Flower_dataset/tiny_FR/daisy/1265350143_6e2b276ec9.jpg  \n",
            "  inflating: /content/drive/MyDrive/FDP_DL@ASIET/Flower_dataset/tiny_FR/daisy/1285423653_18926dc2c8_n.jpg  \n",
            "  inflating: /content/drive/MyDrive/FDP_DL@ASIET/Flower_dataset/tiny_FR/daisy/1286274236_1d7ac84efb_n.jpg  \n",
            "  inflating: /content/drive/MyDrive/FDP_DL@ASIET/Flower_dataset/tiny_FR/daisy/1299501272_59d9da5510_n.jpg  \n",
            "  inflating: /content/drive/MyDrive/FDP_DL@ASIET/Flower_dataset/tiny_FR/daisy/1306119996_ab8ae14d72_n.jpg  \n",
            "  inflating: /content/drive/MyDrive/FDP_DL@ASIET/Flower_dataset/tiny_FR/daisy/1314069875_da8dc023c6_m.jpg  \n",
            "  inflating: /content/drive/MyDrive/FDP_DL@ASIET/Flower_dataset/tiny_FR/daisy/1342002397_9503c97b49.jpg  \n",
            "  inflating: /content/drive/MyDrive/FDP_DL@ASIET/Flower_dataset/tiny_FR/daisy/134409839_71069a95d1_m.jpg  \n",
            "  inflating: /content/drive/MyDrive/FDP_DL@ASIET/Flower_dataset/tiny_FR/daisy/1344985627_c3115e2d71_n.jpg  \n",
            "  inflating: /content/drive/MyDrive/FDP_DL@ASIET/Flower_dataset/tiny_FR/daisy/1354396826_2868631432_m.jpg  \n",
            "  inflating: /content/drive/MyDrive/FDP_DL@ASIET/Flower_dataset/tiny_FR/daisy/1355787476_32e9f2a30b.jpg  \n",
            "  inflating: /content/drive/MyDrive/FDP_DL@ASIET/Flower_dataset/tiny_FR/daisy/1374193928_a52320eafa.jpg  \n",
            "  inflating: /content/drive/MyDrive/FDP_DL@ASIET/Flower_dataset/tiny_FR/daisy/1392131677_116ec04751.jpg  \n",
            "  inflating: /content/drive/MyDrive/FDP_DL@ASIET/Flower_dataset/tiny_FR/daisy/1392946544_115acbb2d9.jpg  \n",
            "  inflating: /content/drive/MyDrive/FDP_DL@ASIET/Flower_dataset/tiny_FR/daisy/1396526833_fb867165be_n.jpg  \n",
            "  inflating: /content/drive/MyDrive/FDP_DL@ASIET/Flower_dataset/tiny_FR/daisy/144076848_57e1d662e3_m.jpg  \n",
            "  inflating: /content/drive/MyDrive/FDP_DL@ASIET/Flower_dataset/tiny_FR/daisy/144099102_bf63a41e4f_n.jpg  \n",
            "  inflating: /content/drive/MyDrive/FDP_DL@ASIET/Flower_dataset/tiny_FR/daisy/1441939151_b271408c8d_n.jpg  \n",
            "  inflating: /content/drive/MyDrive/FDP_DL@ASIET/Flower_dataset/tiny_FR/daisy/144603918_b9de002f60_m.jpg  \n",
            "  inflating: /content/drive/MyDrive/FDP_DL@ASIET/Flower_dataset/tiny_FR/daisy/147068564_32bb4350cc.jpg  \n",
            "  inflating: /content/drive/MyDrive/FDP_DL@ASIET/Flower_dataset/tiny_FR/daisy/15207766_fc2f1d692c_n.jpg  \n",
            "  inflating: /content/drive/MyDrive/FDP_DL@ASIET/Flower_dataset/tiny_FR/daisy/153210866_03cc9f2f36.jpg  \n",
            "  inflating: /content/drive/MyDrive/FDP_DL@ASIET/Flower_dataset/tiny_FR/daisy/154332674_453cea64f4.jpg  \n",
            "  inflating: /content/drive/MyDrive/FDP_DL@ASIET/Flower_dataset/tiny_FR/daisy/158869618_f1a6704236_n.jpg  \n",
            "  inflating: /content/drive/MyDrive/FDP_DL@ASIET/Flower_dataset/tiny_FR/daisy/162362896_99c7d851c8_n.jpg  \n",
            "  inflating: /content/drive/MyDrive/FDP_DL@ASIET/Flower_dataset/tiny_FR/daisy/162362897_1d21b70621_m.jpg  \n",
            "  inflating: /content/drive/MyDrive/FDP_DL@ASIET/Flower_dataset/tiny_FR/daisy/163978992_8128b49d3e_n.jpg  \n",
            "  inflating: /content/drive/MyDrive/FDP_DL@ASIET/Flower_dataset/tiny_FR/daisy/169371301_d9b91a2a42.jpg  \n",
            "  inflating: /content/drive/MyDrive/FDP_DL@ASIET/Flower_dataset/tiny_FR/daisy/171972704_389cf7a953.jpg  \n",
            "  inflating: /content/drive/MyDrive/FDP_DL@ASIET/Flower_dataset/tiny_FR/daisy/172882635_4cc7b86731_m.jpg  \n",
            "  inflating: /content/drive/MyDrive/FDP_DL@ASIET/Flower_dataset/tiny_FR/daisy/174131220_c853df1287.jpg  \n",
            "  inflating: /content/drive/MyDrive/FDP_DL@ASIET/Flower_dataset/tiny_FR/daisy/175106495_53ebdef092_n.jpg  \n",
            "  inflating: /content/drive/MyDrive/FDP_DL@ASIET/Flower_dataset/tiny_FR/daisy/176375506_201859bb92_m.jpg  \n",
            "  inflating: /content/drive/MyDrive/FDP_DL@ASIET/Flower_dataset/tiny_FR/daisy/181007802_7cab5ee78e_n.jpg  \n",
            "  inflating: /content/drive/MyDrive/FDP_DL@ASIET/Flower_dataset/tiny_FR/daisy/1879567877_8ed2a5faa7_n.jpg  \n",
            "  inflating: /content/drive/MyDrive/FDP_DL@ASIET/Flower_dataset/tiny_FR/daisy/1955336401_fbb206d6ef_n.jpg  \n",
            "  inflating: /content/drive/MyDrive/FDP_DL@ASIET/Flower_dataset/tiny_FR/daisy/2001380507_19488ff96a_n.jpg  \n",
            "  inflating: /content/drive/MyDrive/FDP_DL@ASIET/Flower_dataset/tiny_FR/daisy/2019064575_7656b9340f_m.jpg  \n",
            "  inflating: /content/drive/MyDrive/FDP_DL@ASIET/Flower_dataset/tiny_FR/daisy/2045022175_ad087f5f60_n.jpg  \n",
            "  inflating: /content/drive/MyDrive/FDP_DL@ASIET/Flower_dataset/tiny_FR/daisy/2057816617_18448093d0_n.jpg  \n",
            "  inflating: /content/drive/MyDrive/FDP_DL@ASIET/Flower_dataset/tiny_FR/daisy/21652746_cc379e0eea_m.jpg  \n",
            "  inflating: /content/drive/MyDrive/FDP_DL@ASIET/Flower_dataset/tiny_FR/daisy/25360380_1a881a5648.jpg  \n",
            "  inflating: /content/drive/MyDrive/FDP_DL@ASIET/Flower_dataset/tiny_FR/daisy/286875003_f7c0e1882d.jpg  \n",
            "  inflating: /content/drive/MyDrive/FDP_DL@ASIET/Flower_dataset/tiny_FR/daisy/294451721_5106537b34.jpg  \n",
            "  inflating: /content/drive/MyDrive/FDP_DL@ASIET/Flower_dataset/tiny_FR/daisy/299129811_d6ebda9970.jpg  \n",
            "  inflating: /content/drive/MyDrive/FDP_DL@ASIET/Flower_dataset/tiny_FR/daisy/301964511_fab84ea1c1.jpg  \n",
            "  inflating: /content/drive/MyDrive/FDP_DL@ASIET/Flower_dataset/tiny_FR/daisy/302782756_d35cb3e468.jpg  \n",
            "  inflating: /content/drive/MyDrive/FDP_DL@ASIET/Flower_dataset/tiny_FR/daisy/305160642_53cde0f44f.jpg  \n",
            "  inflating: /content/drive/MyDrive/FDP_DL@ASIET/Flower_dataset/tiny_FR/daisy/367020749_3c9a652d75.jpg  \n",
            "  inflating: /content/drive/MyDrive/FDP_DL@ASIET/Flower_dataset/tiny_FR/daisy/413815348_764ae83088.jpg  \n",
            "  inflating: /content/drive/MyDrive/FDP_DL@ASIET/Flower_dataset/tiny_FR/daisy/422094774_28acc69a8b_n.jpg  \n",
            "  inflating: /content/drive/MyDrive/FDP_DL@ASIET/Flower_dataset/tiny_FR/daisy/43474673_7bb4465a86.jpg  \n",
            "  inflating: /content/drive/MyDrive/FDP_DL@ASIET/Flower_dataset/tiny_FR/daisy/435283392_72e4c5b5d6_m.jpg  \n",
            "  inflating: /content/drive/MyDrive/FDP_DL@ASIET/Flower_dataset/tiny_FR/daisy/437859108_173fb33c98.jpg  \n",
            "  inflating: /content/drive/MyDrive/FDP_DL@ASIET/Flower_dataset/tiny_FR/daisy/446484749_4044affcaf_n.jpg  \n",
            "  inflating: /content/drive/MyDrive/FDP_DL@ASIET/Flower_dataset/tiny_FR/daisy/450128527_fd35742d44.jpg  \n",
            "  inflating: /content/drive/MyDrive/FDP_DL@ASIET/Flower_dataset/tiny_FR/daisy/476856232_7c35952f40_n.jpg  \n",
            "  inflating: /content/drive/MyDrive/FDP_DL@ASIET/Flower_dataset/tiny_FR/daisy/476857510_d2b30175de_n.jpg  \n",
            "  inflating: /content/drive/MyDrive/FDP_DL@ASIET/Flower_dataset/tiny_FR/daisy/488202750_c420cbce61.jpg  \n",
            "  inflating: /content/drive/MyDrive/FDP_DL@ASIET/Flower_dataset/tiny_FR/daisy/495098110_3a4bb30042_n.jpg  \n",
            "  inflating: /content/drive/MyDrive/FDP_DL@ASIET/Flower_dataset/tiny_FR/daisy/498159452_b71afd65ba.jpg  \n",
            "  inflating: /content/drive/MyDrive/FDP_DL@ASIET/Flower_dataset/tiny_FR/daisy/506018088_4f7a15a7c5_n.jpg  \n",
            "  inflating: /content/drive/MyDrive/FDP_DL@ASIET/Flower_dataset/tiny_FR/daisy/506348009_9ecff8b6ef.jpg  \n",
            "  inflating: /content/drive/MyDrive/FDP_DL@ASIET/Flower_dataset/tiny_FR/daisy/510844526_858b8fe4db.jpg  \n",
            "  inflating: /content/drive/MyDrive/FDP_DL@ASIET/Flower_dataset/tiny_FR/daisy/512177035_70afc925c8.jpg  \n",
            "  inflating: /content/drive/MyDrive/FDP_DL@ASIET/Flower_dataset/tiny_FR/daisy/512477177_d9004cbcf1_n.jpg  \n",
            "  inflating: /content/drive/MyDrive/FDP_DL@ASIET/Flower_dataset/tiny_FR/daisy/515112668_a49c69455a.jpg  \n",
            "  inflating: /content/drive/MyDrive/FDP_DL@ASIET/Flower_dataset/tiny_FR/daisy/517054463_036db655a1_m.jpg  \n",
            "  inflating: /content/drive/MyDrive/FDP_DL@ASIET/Flower_dataset/tiny_FR/daisy/519880292_7a3a6c6b69.jpg  \n",
            "  inflating: /content/drive/MyDrive/FDP_DL@ASIET/Flower_dataset/tiny_FR/daisy/520752848_4b87fb91a4.jpg  \n",
            "  inflating: /content/drive/MyDrive/FDP_DL@ASIET/Flower_dataset/tiny_FR/daisy/521762040_f26f2e08dd.jpg  \n",
            "  inflating: /content/drive/MyDrive/FDP_DL@ASIET/Flower_dataset/tiny_FR/daisy/525271784_013ddccd1b_m.jpg  \n",
            "  inflating: /content/drive/MyDrive/FDP_DL@ASIET/Flower_dataset/tiny_FR/daisy/525780443_bba812c26a_m.jpg  \n",
            "  inflating: /content/drive/MyDrive/FDP_DL@ASIET/Flower_dataset/tiny_FR/daisy/530738000_4df7e4786b.jpg  \n",
            "  inflating: /content/drive/MyDrive/FDP_DL@ASIET/Flower_dataset/tiny_FR/daisy/534547364_3f6b7279d2_n.jpg  \n",
            "  inflating: /content/drive/MyDrive/FDP_DL@ASIET/Flower_dataset/tiny_FR/daisy/538920244_59899a78f8_n.jpg  \n",
            "  inflating: /content/drive/MyDrive/FDP_DL@ASIET/Flower_dataset/tiny_FR/daisy/54377391_15648e8d18.jpg  \n",
            "  inflating: /content/drive/MyDrive/FDP_DL@ASIET/Flower_dataset/tiny_FR/daisy/5547758_eea9edfd54_n.jpg  \n",
            "  inflating: /content/drive/MyDrive/FDP_DL@ASIET/Flower_dataset/tiny_FR/daisy/5673551_01d1ea993e_n.jpg  \n",
            "  inflating: /content/drive/MyDrive/FDP_DL@ASIET/Flower_dataset/tiny_FR/daisy/5673728_71b8cb57eb.jpg  \n",
            "  inflating: /content/drive/MyDrive/FDP_DL@ASIET/Flower_dataset/tiny_FR/daisy/5794835_d15905c7c8_n.jpg  \n",
            "  inflating: /content/drive/MyDrive/FDP_DL@ASIET/Flower_dataset/tiny_FR/daisy/5794839_200acd910c_n.jpg  \n",
            "  inflating: /content/drive/MyDrive/FDP_DL@ASIET/Flower_dataset/tiny_FR/daisy/676120388_28f03069c3.jpg  \n",
            "  inflating: /content/drive/MyDrive/FDP_DL@ASIET/Flower_dataset/tiny_FR/daisy/695778683_890c46ebac.jpg  \n",
            "  inflating: /content/drive/MyDrive/FDP_DL@ASIET/Flower_dataset/tiny_FR/daisy/705422469_ffa28c566d.jpg  \n",
            "  inflating: /content/drive/MyDrive/FDP_DL@ASIET/Flower_dataset/tiny_FR/daisy/721595842_bacd80a6ac.jpg  \n",
            " extracting: /content/drive/MyDrive/FDP_DL@ASIET/Flower_dataset/tiny_FR/daisy/754248840_95092de274.jpg  \n",
            "  inflating: /content/drive/MyDrive/FDP_DL@ASIET/Flower_dataset/tiny_FR/daisy/754296579_30a9ae018c_n.jpg  \n",
            "  inflating: /content/drive/MyDrive/FDP_DL@ASIET/Flower_dataset/tiny_FR/daisy/799952628_bf836677fa_n.jpg  \n",
            "  inflating: /content/drive/MyDrive/FDP_DL@ASIET/Flower_dataset/tiny_FR/daisy/813445367_187ecf080a_n.jpg  \n",
            "  inflating: /content/drive/MyDrive/FDP_DL@ASIET/Flower_dataset/tiny_FR/daisy/909609509_a05ccb8127.jpg  \n",
            "  inflating: /content/drive/MyDrive/FDP_DL@ASIET/Flower_dataset/tiny_FR/daisy/99306615_739eb94b9e_m.jpg  \n",
            "   creating: /content/drive/MyDrive/FDP_DL@ASIET/Flower_dataset/tiny_FR/dandelion/\n",
            "  inflating: /content/drive/MyDrive/FDP_DL@ASIET/Flower_dataset/tiny_FR/dandelion/10443973_aeb97513fc_m.jpg  \n",
            "  inflating: /content/drive/MyDrive/FDP_DL@ASIET/Flower_dataset/tiny_FR/dandelion/10683189_bd6e371b97.jpg  \n",
            "  inflating: /content/drive/MyDrive/FDP_DL@ASIET/Flower_dataset/tiny_FR/dandelion/1074999133_1e4a1e042e.jpg  \n",
            "  inflating: /content/drive/MyDrive/FDP_DL@ASIET/Flower_dataset/tiny_FR/dandelion/1080179756_5f05350a59.jpg  \n",
            "  inflating: /content/drive/MyDrive/FDP_DL@ASIET/Flower_dataset/tiny_FR/dandelion/10919961_0af657c4e8.jpg  \n",
            "  inflating: /content/drive/MyDrive/FDP_DL@ASIET/Flower_dataset/tiny_FR/dandelion/11405573_24a8a838cc_n.jpg  \n",
            "  inflating: /content/drive/MyDrive/FDP_DL@ASIET/Flower_dataset/tiny_FR/dandelion/11545123_50a340b473_m.jpg  \n",
            "  inflating: /content/drive/MyDrive/FDP_DL@ASIET/Flower_dataset/tiny_FR/dandelion/126012913_edf771c564_n.jpg  \n",
            "  inflating: /content/drive/MyDrive/FDP_DL@ASIET/Flower_dataset/tiny_FR/dandelion/129019877_8eea2978ca_m.jpg  \n",
            "  inflating: /content/drive/MyDrive/FDP_DL@ASIET/Flower_dataset/tiny_FR/dandelion/130733200_fbe28eea19.jpg  \n",
            "  inflating: /content/drive/MyDrive/FDP_DL@ASIET/Flower_dataset/tiny_FR/dandelion/13290033_ebd7c7abba_n.jpg  \n",
            "  inflating: /content/drive/MyDrive/FDP_DL@ASIET/Flower_dataset/tiny_FR/dandelion/136011860_44ca0b2835_n.jpg  \n",
            "  inflating: /content/drive/MyDrive/FDP_DL@ASIET/Flower_dataset/tiny_FR/dandelion/136999986_e410a68efb_n.jpg  \n",
            "  inflating: /content/drive/MyDrive/FDP_DL@ASIET/Flower_dataset/tiny_FR/dandelion/138132145_782763b84f_m.jpg  \n",
            "  inflating: /content/drive/MyDrive/FDP_DL@ASIET/Flower_dataset/tiny_FR/dandelion/138166590_47c6cb9dd0.jpg  \n",
            "  inflating: /content/drive/MyDrive/FDP_DL@ASIET/Flower_dataset/tiny_FR/dandelion/139124974_9e3ba69f6c.jpg  \n",
            "  inflating: /content/drive/MyDrive/FDP_DL@ASIET/Flower_dataset/tiny_FR/dandelion/13920113_f03e867ea7_m.jpg  \n",
            "  inflating: /content/drive/MyDrive/FDP_DL@ASIET/Flower_dataset/tiny_FR/dandelion/140951103_69847c0b7c.jpg  \n",
            "  inflating: /content/drive/MyDrive/FDP_DL@ASIET/Flower_dataset/tiny_FR/dandelion/141340262_ca2e576490.jpg  \n",
            "  inflating: /content/drive/MyDrive/FDP_DL@ASIET/Flower_dataset/tiny_FR/dandelion/141652526_2be95f21c3_n.jpg  \n",
            "  inflating: /content/drive/MyDrive/FDP_DL@ASIET/Flower_dataset/tiny_FR/dandelion/141935731_d26d600f4f_m.jpg  \n",
            "  inflating: /content/drive/MyDrive/FDP_DL@ASIET/Flower_dataset/tiny_FR/dandelion/142390525_5d81a3659d_m.jpg  \n",
            "  inflating: /content/drive/MyDrive/FDP_DL@ASIET/Flower_dataset/tiny_FR/dandelion/142813254_20a7fd5fb6_n.jpg  \n",
            "  inflating: /content/drive/MyDrive/FDP_DL@ASIET/Flower_dataset/tiny_FR/dandelion/14283011_3e7452c5b2_n.jpg  \n",
            "  inflating: /content/drive/MyDrive/FDP_DL@ASIET/Flower_dataset/tiny_FR/dandelion/144040769_c5b805f868.jpg  \n",
            "  inflating: /content/drive/MyDrive/FDP_DL@ASIET/Flower_dataset/tiny_FR/dandelion/144686365_d7e96941ee_n.jpg  \n",
            "  inflating: /content/drive/MyDrive/FDP_DL@ASIET/Flower_dataset/tiny_FR/dandelion/145173479_7d04346c20.jpg  \n",
            "  inflating: /content/drive/MyDrive/FDP_DL@ASIET/Flower_dataset/tiny_FR/dandelion/146023167_f905574d97_m.jpg  \n",
            "  inflating: /content/drive/MyDrive/FDP_DL@ASIET/Flower_dataset/tiny_FR/dandelion/146242691_44d9c9d6ce_n.jpg  \n",
            "  inflating: /content/drive/MyDrive/FDP_DL@ASIET/Flower_dataset/tiny_FR/dandelion/148180650_19a4b410db.jpg  \n",
            "  inflating: /content/drive/MyDrive/FDP_DL@ASIET/Flower_dataset/tiny_FR/dandelion/14829055_2a2e646a8f_m.jpg  \n",
            "  inflating: /content/drive/MyDrive/FDP_DL@ASIET/Flower_dataset/tiny_FR/dandelion/148698493_5710e5f472.jpg  \n",
            "  inflating: /content/drive/MyDrive/FDP_DL@ASIET/Flower_dataset/tiny_FR/dandelion/149782934_21adaf4a21.jpg  \n",
            "  inflating: /content/drive/MyDrive/FDP_DL@ASIET/Flower_dataset/tiny_FR/dandelion/151385301_153eacf6b5_n.jpg  \n",
            "  inflating: /content/drive/MyDrive/FDP_DL@ASIET/Flower_dataset/tiny_FR/dandelion/151385302_f8980a257f_n.jpg  \n",
            "  inflating: /content/drive/MyDrive/FDP_DL@ASIET/Flower_dataset/tiny_FR/dandelion/151861297_55b10a03a6_n.jpg  \n",
            "  inflating: /content/drive/MyDrive/FDP_DL@ASIET/Flower_dataset/tiny_FR/dandelion/151979452_9832f08b69.jpg  \n",
            "  inflating: /content/drive/MyDrive/FDP_DL@ASIET/Flower_dataset/tiny_FR/dandelion/155646858_9a8b5e8fc8.jpg  \n",
            "  inflating: /content/drive/MyDrive/FDP_DL@ASIET/Flower_dataset/tiny_FR/dandelion/158988663_6fe055fcb4.jpg  \n",
            "  inflating: /content/drive/MyDrive/FDP_DL@ASIET/Flower_dataset/tiny_FR/dandelion/15987457_49dc11bf4b.jpg  \n",
            "  inflating: /content/drive/MyDrive/FDP_DL@ASIET/Flower_dataset/tiny_FR/dandelion/16041975_2f6c1596e5.jpg  \n",
            "  inflating: /content/drive/MyDrive/FDP_DL@ASIET/Flower_dataset/tiny_FR/dandelion/160456948_38c3817c6a_m.jpg  \n",
            "  inflating: /content/drive/MyDrive/FDP_DL@ASIET/Flower_dataset/tiny_FR/dandelion/16159487_3a6615a565_n.jpg  \n",
            "  inflating: /content/drive/MyDrive/FDP_DL@ASIET/Flower_dataset/tiny_FR/dandelion/163702807_e508544acd_n.jpg  \n",
            "  inflating: /content/drive/MyDrive/FDP_DL@ASIET/Flower_dataset/tiny_FR/dandelion/16987075_9a690a2183.jpg  \n",
            "  inflating: /content/drive/MyDrive/FDP_DL@ASIET/Flower_dataset/tiny_FR/dandelion/176284193_8fa1710431_m.jpg  \n",
            "  inflating: /content/drive/MyDrive/FDP_DL@ASIET/Flower_dataset/tiny_FR/dandelion/177851662_b2622b4238_n.jpg  \n",
            "  inflating: /content/drive/MyDrive/FDP_DL@ASIET/Flower_dataset/tiny_FR/dandelion/253622055_d72964a7fd_n.jpg  \n",
            "  inflating: /content/drive/MyDrive/FDP_DL@ASIET/Flower_dataset/tiny_FR/dandelion/284497199_93a01f48f6.jpg  \n",
            "  inflating: /content/drive/MyDrive/FDP_DL@ASIET/Flower_dataset/tiny_FR/dandelion/284497233_c19801752c.jpg  \n",
            "  inflating: /content/drive/MyDrive/FDP_DL@ASIET/Flower_dataset/tiny_FR/dandelion/315645471_dda66c6338_m.jpg  \n",
            "  inflating: /content/drive/MyDrive/FDP_DL@ASIET/Flower_dataset/tiny_FR/dandelion/340190928_d77bf4d615.jpg  \n",
            "  inflating: /content/drive/MyDrive/FDP_DL@ASIET/Flower_dataset/tiny_FR/dandelion/344318990_7be3fb0a7d.jpg  \n",
            "  inflating: /content/drive/MyDrive/FDP_DL@ASIET/Flower_dataset/tiny_FR/dandelion/425800274_27dba84fac_n.jpg  \n",
            "  inflating: /content/drive/MyDrive/FDP_DL@ASIET/Flower_dataset/tiny_FR/dandelion/451965300_619b781dc9_m.jpg  \n",
            "  inflating: /content/drive/MyDrive/FDP_DL@ASIET/Flower_dataset/tiny_FR/dandelion/455728598_c5f3e7fc71_m.jpg  \n",
            "  inflating: /content/drive/MyDrive/FDP_DL@ASIET/Flower_dataset/tiny_FR/dandelion/458011386_ec89115a19.jpg  \n",
            "  inflating: /content/drive/MyDrive/FDP_DL@ASIET/Flower_dataset/tiny_FR/dandelion/459633569_5ddf6bc116_m.jpg  \n",
            "  inflating: /content/drive/MyDrive/FDP_DL@ASIET/Flower_dataset/tiny_FR/dandelion/459748276_69101b0cec_n.jpg  \n",
            "  inflating: /content/drive/MyDrive/FDP_DL@ASIET/Flower_dataset/tiny_FR/dandelion/461632542_0387557eff.jpg  \n",
            "  inflating: /content/drive/MyDrive/FDP_DL@ASIET/Flower_dataset/tiny_FR/dandelion/463736819_f779800165.jpg  \n",
            "  inflating: /content/drive/MyDrive/FDP_DL@ASIET/Flower_dataset/tiny_FR/dandelion/468749497_951c571eff_n.jpg  \n",
            "  inflating: /content/drive/MyDrive/FDP_DL@ASIET/Flower_dataset/tiny_FR/dandelion/477207005_6327db8393_m.jpg  \n",
            "  inflating: /content/drive/MyDrive/FDP_DL@ASIET/Flower_dataset/tiny_FR/dandelion/477316928_a70a31a704_m.jpg  \n",
            "  inflating: /content/drive/MyDrive/FDP_DL@ASIET/Flower_dataset/tiny_FR/dandelion/478851599_25bfd70605_n.jpg  \n",
            "  inflating: /content/drive/MyDrive/FDP_DL@ASIET/Flower_dataset/tiny_FR/dandelion/479115838_0771a6cdff.jpg  \n",
            "  inflating: /content/drive/MyDrive/FDP_DL@ASIET/Flower_dataset/tiny_FR/dandelion/479495978_ee22cf05be.jpg  \n",
            "  inflating: /content/drive/MyDrive/FDP_DL@ASIET/Flower_dataset/tiny_FR/dandelion/480621885_4c8b50fa11_m.jpg  \n",
            "  inflating: /content/drive/MyDrive/FDP_DL@ASIET/Flower_dataset/tiny_FR/dandelion/483097906_2c35054346.jpg  \n",
            "  inflating: /content/drive/MyDrive/FDP_DL@ASIET/Flower_dataset/tiny_FR/dandelion/486234138_688e01aa9b_n.jpg  \n",
            "  inflating: /content/drive/MyDrive/FDP_DL@ASIET/Flower_dataset/tiny_FR/dandelion/493696003_f93ffb3abd_n.jpg  \n",
            "  inflating: /content/drive/MyDrive/FDP_DL@ASIET/Flower_dataset/tiny_FR/dandelion/494108764_e00178af6e.jpg  \n",
            "  inflating: /content/drive/MyDrive/FDP_DL@ASIET/Flower_dataset/tiny_FR/dandelion/501987276_744448580c_m.jpg  \n",
            "  inflating: /content/drive/MyDrive/FDP_DL@ASIET/Flower_dataset/tiny_FR/dandelion/501987288_c69c4e0c90_m.jpg  \n",
            "  inflating: /content/drive/MyDrive/FDP_DL@ASIET/Flower_dataset/tiny_FR/dandelion/506659320_6fac46551e.jpg  \n",
            "  inflating: /content/drive/MyDrive/FDP_DL@ASIET/Flower_dataset/tiny_FR/dandelion/506660896_c903cca1f0.jpg  \n",
            "  inflating: /content/drive/MyDrive/FDP_DL@ASIET/Flower_dataset/tiny_FR/dandelion/510677438_73e4b91c95_m.jpg  \n",
            "  inflating: /content/drive/MyDrive/FDP_DL@ASIET/Flower_dataset/tiny_FR/dandelion/510874382_f7e3435043.jpg  \n",
            "  inflating: /content/drive/MyDrive/FDP_DL@ASIET/Flower_dataset/tiny_FR/dandelion/510897767_918260db93.jpg  \n",
            "  inflating: /content/drive/MyDrive/FDP_DL@ASIET/Flower_dataset/tiny_FR/dandelion/515143813_b3afb08bf9.jpg  \n",
            "  inflating: /content/drive/MyDrive/FDP_DL@ASIET/Flower_dataset/tiny_FR/dandelion/570127230_ce409f90f8_n.jpg  \n",
            "  inflating: /content/drive/MyDrive/FDP_DL@ASIET/Flower_dataset/tiny_FR/dandelion/578938011_34918b1468.jpg  \n",
            "  inflating: /content/drive/MyDrive/FDP_DL@ASIET/Flower_dataset/tiny_FR/dandelion/61242541_a04395e6bc.jpg  \n",
            "  inflating: /content/drive/MyDrive/FDP_DL@ASIET/Flower_dataset/tiny_FR/dandelion/62293290_2c463891ff_m.jpg  \n",
            " extracting: /content/drive/MyDrive/FDP_DL@ASIET/Flower_dataset/tiny_FR/dandelion/645330051_06b192b7e1.jpg  \n",
            "  inflating: /content/drive/MyDrive/FDP_DL@ASIET/Flower_dataset/tiny_FR/dandelion/674407101_57676c40fb.jpg  \n",
            "  inflating: /content/drive/MyDrive/FDP_DL@ASIET/Flower_dataset/tiny_FR/dandelion/7355522_b66e5d3078_m.jpg  \n",
            "  inflating: /content/drive/MyDrive/FDP_DL@ASIET/Flower_dataset/tiny_FR/dandelion/751941983_58e1ae3957_m.jpg  \n",
            " extracting: /content/drive/MyDrive/FDP_DL@ASIET/Flower_dataset/tiny_FR/dandelion/808239968_318722e4db.jpg  \n",
            "  inflating: /content/drive/MyDrive/FDP_DL@ASIET/Flower_dataset/tiny_FR/dandelion/80846315_d997645bea_n.jpg  \n",
            "  inflating: /content/drive/MyDrive/FDP_DL@ASIET/Flower_dataset/tiny_FR/dandelion/8181477_8cb77d2e0f_n.jpg  \n",
            "  inflating: /content/drive/MyDrive/FDP_DL@ASIET/Flower_dataset/tiny_FR/dandelion/8223949_2928d3f6f6_n.jpg  \n",
            "  inflating: /content/drive/MyDrive/FDP_DL@ASIET/Flower_dataset/tiny_FR/dandelion/8223968_6b51555d2f_n.jpg  \n",
            "  inflating: /content/drive/MyDrive/FDP_DL@ASIET/Flower_dataset/tiny_FR/dandelion/8475758_4c861ab268_m.jpg  \n",
            "  inflating: /content/drive/MyDrive/FDP_DL@ASIET/Flower_dataset/tiny_FR/dandelion/8475769_3dea463364_m.jpg  \n",
            "  inflating: /content/drive/MyDrive/FDP_DL@ASIET/Flower_dataset/tiny_FR/dandelion/854593001_c57939125f_n.jpg  \n",
            "  inflating: /content/drive/MyDrive/FDP_DL@ASIET/Flower_dataset/tiny_FR/dandelion/8684108_a85764b22d_n.jpg  \n",
            "  inflating: /content/drive/MyDrive/FDP_DL@ASIET/Flower_dataset/tiny_FR/dandelion/921252114_91e334b950.jpg  \n",
            "  inflating: /content/drive/MyDrive/FDP_DL@ASIET/Flower_dataset/tiny_FR/dandelion/9818247_e2eac18894.jpg  \n",
            "  inflating: /content/drive/MyDrive/FDP_DL@ASIET/Flower_dataset/tiny_FR/dandelion/98992760_53ed1d26a9.jpg  \n",
            "   creating: /content/drive/MyDrive/FDP_DL@ASIET/Flower_dataset/tiny_FR/rose/\n",
            "  inflating: /content/drive/MyDrive/FDP_DL@ASIET/Flower_dataset/tiny_FR/rose/102501987_3cdb8e5394_n.jpg  \n",
            "  inflating: /content/drive/MyDrive/FDP_DL@ASIET/Flower_dataset/tiny_FR/rose/110472418_87b6a3aa98_m.jpg  \n",
            "  inflating: /content/drive/MyDrive/FDP_DL@ASIET/Flower_dataset/tiny_FR/rose/118974357_0faa23cce9_n.jpg  \n",
            "  inflating: /content/drive/MyDrive/FDP_DL@ASIET/Flower_dataset/tiny_FR/rose/12240303_80d87f77a3_n.jpg  \n",
            "  inflating: /content/drive/MyDrive/FDP_DL@ASIET/Flower_dataset/tiny_FR/rose/123128873_546b8b7355_n.jpg  \n",
            "  inflating: /content/drive/MyDrive/FDP_DL@ASIET/Flower_dataset/tiny_FR/rose/1392579828_ab5a139052.jpg  \n",
            "  inflating: /content/drive/MyDrive/FDP_DL@ASIET/Flower_dataset/tiny_FR/rose/1402130395_0b89d76029.jpg  \n",
            "  inflating: /content/drive/MyDrive/FDP_DL@ASIET/Flower_dataset/tiny_FR/rose/1445228333_59a07e0801.jpg  \n",
            "  inflating: /content/drive/MyDrive/FDP_DL@ASIET/Flower_dataset/tiny_FR/rose/1446090416_f0cad5fde4.jpg  \n",
            "  inflating: /content/drive/MyDrive/FDP_DL@ASIET/Flower_dataset/tiny_FR/rose/1446097778_97149b8362.jpg  \n",
            "  inflating: /content/drive/MyDrive/FDP_DL@ASIET/Flower_dataset/tiny_FR/rose/145862135_ab710de93c_n.jpg  \n",
            "  inflating: /content/drive/MyDrive/FDP_DL@ASIET/Flower_dataset/tiny_FR/rose/1461381091_aaaa663bbe_n.jpg  \n",
            "  inflating: /content/drive/MyDrive/FDP_DL@ASIET/Flower_dataset/tiny_FR/rose/1469726748_f359f4a8c5.jpg  \n",
            "  inflating: /content/drive/MyDrive/FDP_DL@ASIET/Flower_dataset/tiny_FR/rose/1485142251_ca89254442.jpg  \n",
            "  inflating: /content/drive/MyDrive/FDP_DL@ASIET/Flower_dataset/tiny_FR/rose/1540738662_7b4152e344_m.jpg  \n",
            "  inflating: /content/drive/MyDrive/FDP_DL@ASIET/Flower_dataset/tiny_FR/rose/1562198683_8cd8cb5876_n.jpg  \n",
            "  inflating: /content/drive/MyDrive/FDP_DL@ASIET/Flower_dataset/tiny_FR/rose/159079265_d77a9ac920_n.jpg  \n",
            "  inflating: /content/drive/MyDrive/FDP_DL@ASIET/Flower_dataset/tiny_FR/rose/160954292_6c2b4fda65_n.jpg  \n",
            "  inflating: /content/drive/MyDrive/FDP_DL@ASIET/Flower_dataset/tiny_FR/rose/1645761726_2b1be95472.jpg  \n",
            "  inflating: /content/drive/MyDrive/FDP_DL@ASIET/Flower_dataset/tiny_FR/rose/1666341535_99c6f7509f_n.jpg  \n",
            "  inflating: /content/drive/MyDrive/FDP_DL@ASIET/Flower_dataset/tiny_FR/rose/1667199972_7ba7d999c1_m.jpg  \n",
            "  inflating: /content/drive/MyDrive/FDP_DL@ASIET/Flower_dataset/tiny_FR/rose/172311368_49412f881b.jpg  \n",
            "  inflating: /content/drive/MyDrive/FDP_DL@ASIET/Flower_dataset/tiny_FR/rose/174109630_3c544b8a2f.jpg  \n",
            "  inflating: /content/drive/MyDrive/FDP_DL@ASIET/Flower_dataset/tiny_FR/rose/1756973583_4aac7df00d_m.jpg  \n",
            "  inflating: /content/drive/MyDrive/FDP_DL@ASIET/Flower_dataset/tiny_FR/rose/1757822526_fe30b9b3ca_m.jpg  \n",
            "  inflating: /content/drive/MyDrive/FDP_DL@ASIET/Flower_dataset/tiny_FR/rose/1775233884_12ff5a124f.jpg  \n",
            "  inflating: /content/drive/MyDrive/FDP_DL@ASIET/Flower_dataset/tiny_FR/rose/1788484468_f73afa6c32_n.jpg  \n",
            "  inflating: /content/drive/MyDrive/FDP_DL@ASIET/Flower_dataset/tiny_FR/rose/1793211631_68c31a74dc.jpg  \n",
            "  inflating: /content/drive/MyDrive/FDP_DL@ASIET/Flower_dataset/tiny_FR/rose/1801614110_bb9fa46830.jpg  \n",
            "  inflating: /content/drive/MyDrive/FDP_DL@ASIET/Flower_dataset/tiny_FR/rose/180613732_3a7aba0b80_n.jpg  \n",
            "  inflating: /content/drive/MyDrive/FDP_DL@ASIET/Flower_dataset/tiny_FR/rose/1813435848_7852708394_n.jpg  \n",
            "  inflating: /content/drive/MyDrive/FDP_DL@ASIET/Flower_dataset/tiny_FR/rose/1831404161_d2df86fd70.jpg  \n",
            "  inflating: /content/drive/MyDrive/FDP_DL@ASIET/Flower_dataset/tiny_FR/rose/1949195327_75f76c12b1.jpg  \n",
            "  inflating: /content/drive/MyDrive/FDP_DL@ASIET/Flower_dataset/tiny_FR/rose/2053476785_c162a3e358.jpg  \n",
            "  inflating: /content/drive/MyDrive/FDP_DL@ASIET/Flower_dataset/tiny_FR/rose/2059172936_032ffc12aa.jpg  \n",
            "  inflating: /content/drive/MyDrive/FDP_DL@ASIET/Flower_dataset/tiny_FR/rose/2065522422_cfdd80044a_n.jpg  \n",
            "  inflating: /content/drive/MyDrive/FDP_DL@ASIET/Flower_dataset/tiny_FR/rose/2093263381_afd51358a3.jpg  \n",
            "  inflating: /content/drive/MyDrive/FDP_DL@ASIET/Flower_dataset/tiny_FR/rose/2122401867_cd86c5f114_n.jpg  \n",
            "  inflating: /content/drive/MyDrive/FDP_DL@ASIET/Flower_dataset/tiny_FR/rose/2141413229_3f0425f972_n.jpg  \n",
            "  inflating: /content/drive/MyDrive/FDP_DL@ASIET/Flower_dataset/tiny_FR/rose/218630974_5646dafc63_m.jpg  \n",
            "  inflating: /content/drive/MyDrive/FDP_DL@ASIET/Flower_dataset/tiny_FR/rose/2197754124_5c8a146761_n.jpg  \n",
            "  inflating: /content/drive/MyDrive/FDP_DL@ASIET/Flower_dataset/tiny_FR/rose/2215318403_06eb99176a.jpg  \n",
            "  inflating: /content/drive/MyDrive/FDP_DL@ASIET/Flower_dataset/tiny_FR/rose/2258973326_03c0145f15_n.jpg  \n",
            "  inflating: /content/drive/MyDrive/FDP_DL@ASIET/Flower_dataset/tiny_FR/rose/2265390547_2409007cef_n.jpg  \n",
            "  inflating: /content/drive/MyDrive/FDP_DL@ASIET/Flower_dataset/tiny_FR/rose/2265579414_2e00a8f265_n.jpg  \n",
            "  inflating: /content/drive/MyDrive/FDP_DL@ASIET/Flower_dataset/tiny_FR/rose/22679076_bdb4c24401_m.jpg  \n",
            "  inflating: /content/drive/MyDrive/FDP_DL@ASIET/Flower_dataset/tiny_FR/rose/2273917656_6d6c038283.jpg  \n",
            "  inflating: /content/drive/MyDrive/FDP_DL@ASIET/Flower_dataset/tiny_FR/rose/229488796_21ac6ee16d_n.jpg  \n",
            "  inflating: /content/drive/MyDrive/FDP_DL@ASIET/Flower_dataset/tiny_FR/rose/2325232198_751645d0bb_n.jpg  \n",
            "  inflating: /content/drive/MyDrive/FDP_DL@ASIET/Flower_dataset/tiny_FR/rose/2331651885_619653a5d3.jpg  \n",
            "  inflating: /content/drive/MyDrive/FDP_DL@ASIET/Flower_dataset/tiny_FR/rose/2332478138_28f1d586e4_n.jpg  \n",
            "  inflating: /content/drive/MyDrive/FDP_DL@ASIET/Flower_dataset/tiny_FR/rose/2347579838_dd6d2aaefc_n.jpg  \n",
            "  inflating: /content/drive/MyDrive/FDP_DL@ASIET/Flower_dataset/tiny_FR/rose/2392457180_f02dab5c65.jpg  \n",
            "  inflating: /content/drive/MyDrive/FDP_DL@ASIET/Flower_dataset/tiny_FR/rose/2414954629_3708a1a04d.jpg  \n",
            "  inflating: /content/drive/MyDrive/FDP_DL@ASIET/Flower_dataset/tiny_FR/rose/2423565102_2f1a00bb1b_n.jpg  \n",
            "  inflating: /content/drive/MyDrive/FDP_DL@ASIET/Flower_dataset/tiny_FR/rose/2471103806_87ba53d997_n.jpg  \n",
            "  inflating: /content/drive/MyDrive/FDP_DL@ASIET/Flower_dataset/tiny_FR/rose/2491600761_7e9d6776e8_m.jpg  \n",
            "  inflating: /content/drive/MyDrive/FDP_DL@ASIET/Flower_dataset/tiny_FR/rose/2501297526_cbd66a3f7e_m.jpg  \n",
            "  inflating: /content/drive/MyDrive/FDP_DL@ASIET/Flower_dataset/tiny_FR/rose/2535466143_5823e48b63.jpg  \n",
            "  inflating: /content/drive/MyDrive/FDP_DL@ASIET/Flower_dataset/tiny_FR/rose/2535466393_6556afeb2f_m.jpg  \n",
            "  inflating: /content/drive/MyDrive/FDP_DL@ASIET/Flower_dataset/tiny_FR/rose/2535495431_e6f950443c.jpg  \n",
            "  inflating: /content/drive/MyDrive/FDP_DL@ASIET/Flower_dataset/tiny_FR/rose/2536282942_b5ca27577e.jpg  \n",
            "  inflating: /content/drive/MyDrive/FDP_DL@ASIET/Flower_dataset/tiny_FR/rose/2550860627_998a4fc4c1.jpg  \n",
            "  inflating: /content/drive/MyDrive/FDP_DL@ASIET/Flower_dataset/tiny_FR/rose/272481307_1eb47ba3e0_n.jpg  \n",
            "  inflating: /content/drive/MyDrive/FDP_DL@ASIET/Flower_dataset/tiny_FR/rose/295257304_de893fc94d.jpg  \n",
            "  inflating: /content/drive/MyDrive/FDP_DL@ASIET/Flower_dataset/tiny_FR/rose/298670754_f25edda891.jpg  \n",
            "  inflating: /content/drive/MyDrive/FDP_DL@ASIET/Flower_dataset/tiny_FR/rose/319298955_0c72bd36bf.jpg  \n",
            "  inflating: /content/drive/MyDrive/FDP_DL@ASIET/Flower_dataset/tiny_FR/rose/323872063_7264e7e018_m.jpg  \n",
            "  inflating: /content/drive/MyDrive/FDP_DL@ASIET/Flower_dataset/tiny_FR/rose/326541992_d542103ca8_n.jpg  \n",
            "  inflating: /content/drive/MyDrive/FDP_DL@ASIET/Flower_dataset/tiny_FR/rose/353897245_5453f35a8e.jpg  \n",
            "  inflating: /content/drive/MyDrive/FDP_DL@ASIET/Flower_dataset/tiny_FR/rose/388405293_4db1d71f21_n.jpg  \n",
            "  inflating: /content/drive/MyDrive/FDP_DL@ASIET/Flower_dataset/tiny_FR/rose/394990940_7af082cf8d_n.jpg  \n",
            "  inflating: /content/drive/MyDrive/FDP_DL@ASIET/Flower_dataset/tiny_FR/rose/410421672_563550467c.jpg  \n",
            "  inflating: /content/drive/MyDrive/FDP_DL@ASIET/Flower_dataset/tiny_FR/rose/410425647_4586667858.jpg  \n",
            "  inflating: /content/drive/MyDrive/FDP_DL@ASIET/Flower_dataset/tiny_FR/rose/459042023_6273adc312_n.jpg  \n",
            "  inflating: /content/drive/MyDrive/FDP_DL@ASIET/Flower_dataset/tiny_FR/rose/466486216_ab13b55763.jpg  \n",
            "  inflating: /content/drive/MyDrive/FDP_DL@ASIET/Flower_dataset/tiny_FR/rose/475936554_a2b38aaa8e.jpg  \n",
            "  inflating: /content/drive/MyDrive/FDP_DL@ASIET/Flower_dataset/tiny_FR/rose/475947979_554062a608_m.jpg  \n",
            "  inflating: /content/drive/MyDrive/FDP_DL@ASIET/Flower_dataset/tiny_FR/rose/483444865_65962cea07_m.jpg  \n",
            "  inflating: /content/drive/MyDrive/FDP_DL@ASIET/Flower_dataset/tiny_FR/rose/488849503_63a290a8c2_m.jpg  \n",
            "  inflating: /content/drive/MyDrive/FDP_DL@ASIET/Flower_dataset/tiny_FR/rose/494803274_f84f21d53a.jpg  \n",
            "  inflating: /content/drive/MyDrive/FDP_DL@ASIET/Flower_dataset/tiny_FR/rose/505517255_cfbb6f6394.jpg  \n",
            "  inflating: /content/drive/MyDrive/FDP_DL@ASIET/Flower_dataset/tiny_FR/rose/509239741_28e2cfe492_m.jpg  \n",
            "  inflating: /content/drive/MyDrive/FDP_DL@ASIET/Flower_dataset/tiny_FR/rose/512578026_f6e6f2ad26.jpg  \n",
            "  inflating: /content/drive/MyDrive/FDP_DL@ASIET/Flower_dataset/tiny_FR/rose/512694812_48ba9c0b49_n.jpg  \n",
            "  inflating: /content/drive/MyDrive/FDP_DL@ASIET/Flower_dataset/tiny_FR/rose/515121050_dcb99890be.jpg  \n",
            "  inflating: /content/drive/MyDrive/FDP_DL@ASIET/Flower_dataset/tiny_FR/rose/527513005_41497ca4dc.jpg  \n",
            "  inflating: /content/drive/MyDrive/FDP_DL@ASIET/Flower_dataset/tiny_FR/rose/534228982_4afbcece9b_m.jpg  \n",
            "  inflating: /content/drive/MyDrive/FDP_DL@ASIET/Flower_dataset/tiny_FR/rose/537207677_f96a0507bb.jpg  \n",
            "  inflating: /content/drive/MyDrive/FDP_DL@ASIET/Flower_dataset/tiny_FR/rose/537625768_791e973b40.jpg  \n",
            "  inflating: /content/drive/MyDrive/FDP_DL@ASIET/Flower_dataset/tiny_FR/rose/563847503_89e9756c80.jpg  \n",
            "  inflating: /content/drive/MyDrive/FDP_DL@ASIET/Flower_dataset/tiny_FR/rose/568715474_bdb64ccc32.jpg  \n",
            "  inflating: /content/drive/MyDrive/FDP_DL@ASIET/Flower_dataset/tiny_FR/rose/685724528_6cd5cbe203.jpg  \n",
            "  inflating: /content/drive/MyDrive/FDP_DL@ASIET/Flower_dataset/tiny_FR/rose/850416050_31b3ff7086.jpg  \n",
            "  inflating: /content/drive/MyDrive/FDP_DL@ASIET/Flower_dataset/tiny_FR/rose/873660804_37f5c6a46e_n.jpg  \n",
            "  inflating: /content/drive/MyDrive/FDP_DL@ASIET/Flower_dataset/tiny_FR/rose/898102603_2d5152f09a.jpg  \n",
            "  inflating: /content/drive/MyDrive/FDP_DL@ASIET/Flower_dataset/tiny_FR/rose/909277823_e6fb8cb5c8_n.jpg  \n",
            "  inflating: /content/drive/MyDrive/FDP_DL@ASIET/Flower_dataset/tiny_FR/rose/921138131_9e1393eb2b_m.jpg  \n",
            "  inflating: /content/drive/MyDrive/FDP_DL@ASIET/Flower_dataset/tiny_FR/rose/921984328_a60076f070_m.jpg  \n",
            "  inflating: /content/drive/MyDrive/FDP_DL@ASIET/Flower_dataset/tiny_FR/rose/99383371_37a5ac12a3_n.jpg  \n",
            "   creating: /content/drive/MyDrive/FDP_DL@ASIET/Flower_dataset/tiny_FR/sunflower/\n",
            "  inflating: /content/drive/MyDrive/FDP_DL@ASIET/Flower_dataset/tiny_FR/sunflower/1008566138_6927679c8a.jpg  \n",
            "  inflating: /content/drive/MyDrive/FDP_DL@ASIET/Flower_dataset/tiny_FR/sunflower/1022552002_2b93faf9e7_n.jpg  \n",
            "  inflating: /content/drive/MyDrive/FDP_DL@ASIET/Flower_dataset/tiny_FR/sunflower/1022552036_67d33d5bd8_n.jpg  \n",
            "  inflating: /content/drive/MyDrive/FDP_DL@ASIET/Flower_dataset/tiny_FR/sunflower/1043442695_4556c4c13d_n.jpg  \n",
            "  inflating: /content/drive/MyDrive/FDP_DL@ASIET/Flower_dataset/tiny_FR/sunflower/1044296388_912143e1d4.jpg  \n",
            "  inflating: /content/drive/MyDrive/FDP_DL@ASIET/Flower_dataset/tiny_FR/sunflower/1064662314_c5a7891b9f_m.jpg  \n",
            "  inflating: /content/drive/MyDrive/FDP_DL@ASIET/Flower_dataset/tiny_FR/sunflower/1217254584_4b3028b93d.jpg  \n",
            "  inflating: /content/drive/MyDrive/FDP_DL@ASIET/Flower_dataset/tiny_FR/sunflower/1240624822_4111dde542.jpg  \n",
            "  inflating: /content/drive/MyDrive/FDP_DL@ASIET/Flower_dataset/tiny_FR/sunflower/1240625276_fb3bd0c7b1.jpg  \n",
            "  inflating: /content/drive/MyDrive/FDP_DL@ASIET/Flower_dataset/tiny_FR/sunflower/1240626292_52cd5d7fb1_m.jpg  \n",
            "  inflating: /content/drive/MyDrive/FDP_DL@ASIET/Flower_dataset/tiny_FR/sunflower/1244774242_25a20d99a9.jpg  \n",
            "  inflating: /content/drive/MyDrive/FDP_DL@ASIET/Flower_dataset/tiny_FR/sunflower/1267876087_a1b3c63dc9.jpg  \n",
            "  inflating: /content/drive/MyDrive/FDP_DL@ASIET/Flower_dataset/tiny_FR/sunflower/127192624_afa3d9cb84.jpg  \n",
            "  inflating: /content/drive/MyDrive/FDP_DL@ASIET/Flower_dataset/tiny_FR/sunflower/1297092593_e573c0a3d6.jpg  \n",
            "  inflating: /content/drive/MyDrive/FDP_DL@ASIET/Flower_dataset/tiny_FR/sunflower/1314584013_fe935fdeb1_n.jpg  \n",
            "  inflating: /content/drive/MyDrive/FDP_DL@ASIET/Flower_dataset/tiny_FR/sunflower/1379256773_bb2eb0d95b_n.jpg  \n",
            "  inflating: /content/drive/MyDrive/FDP_DL@ASIET/Flower_dataset/tiny_FR/sunflower/1419608016_707b887337_n.jpg  \n",
            "  inflating: /content/drive/MyDrive/FDP_DL@ASIET/Flower_dataset/tiny_FR/sunflower/145303599_2627e23815_n.jpg  \n",
            "  inflating: /content/drive/MyDrive/FDP_DL@ASIET/Flower_dataset/tiny_FR/sunflower/147804446_ef9244c8ce_m.jpg  \n",
            "  inflating: /content/drive/MyDrive/FDP_DL@ASIET/Flower_dataset/tiny_FR/sunflower/1484598527_579a272f53.jpg  \n",
            "  inflating: /content/drive/MyDrive/FDP_DL@ASIET/Flower_dataset/tiny_FR/sunflower/1485456230_58d8e45e88.jpg  \n",
            "  inflating: /content/drive/MyDrive/FDP_DL@ASIET/Flower_dataset/tiny_FR/sunflower/151898652_b5f1c70b98_n.jpg  \n",
            "  inflating: /content/drive/MyDrive/FDP_DL@ASIET/Flower_dataset/tiny_FR/sunflower/1596293240_2d5b53495a_m.jpg  \n",
            "  inflating: /content/drive/MyDrive/FDP_DL@ASIET/Flower_dataset/tiny_FR/sunflower/164668737_aeab0cb55e_n.jpg  \n",
            "  inflating: /content/drive/MyDrive/FDP_DL@ASIET/Flower_dataset/tiny_FR/sunflower/164670176_9f5b9c7965.jpg  \n",
            "  inflating: /content/drive/MyDrive/FDP_DL@ASIET/Flower_dataset/tiny_FR/sunflower/164670455_29d8e02bbd_n.jpg  \n",
            "  inflating: /content/drive/MyDrive/FDP_DL@ASIET/Flower_dataset/tiny_FR/sunflower/164671753_ab36d9cbb7_n.jpg  \n",
            "  inflating: /content/drive/MyDrive/FDP_DL@ASIET/Flower_dataset/tiny_FR/sunflower/164672339_f2b5b164f6.jpg  \n",
            "  inflating: /content/drive/MyDrive/FDP_DL@ASIET/Flower_dataset/tiny_FR/sunflower/1715303025_e7065327e2.jpg  \n",
            "  inflating: /content/drive/MyDrive/FDP_DL@ASIET/Flower_dataset/tiny_FR/sunflower/175638423_058c07afb9.jpg  \n",
            "  inflating: /content/drive/MyDrive/FDP_DL@ASIET/Flower_dataset/tiny_FR/sunflower/1788133737_b1133d1aa7.jpg  \n",
            "  inflating: /content/drive/MyDrive/FDP_DL@ASIET/Flower_dataset/tiny_FR/sunflower/184682095_46f8607278.jpg  \n",
            "  inflating: /content/drive/MyDrive/FDP_DL@ASIET/Flower_dataset/tiny_FR/sunflower/184682320_73ccf74710.jpg  \n",
            "  inflating: /content/drive/MyDrive/FDP_DL@ASIET/Flower_dataset/tiny_FR/sunflower/184682506_8a9b8c662d.jpg  \n",
            "  inflating: /content/drive/MyDrive/FDP_DL@ASIET/Flower_dataset/tiny_FR/sunflower/184682652_c927a49226_m.jpg  \n",
            "  inflating: /content/drive/MyDrive/FDP_DL@ASIET/Flower_dataset/tiny_FR/sunflower/184682920_97ae41ce60_m.jpg  \n",
            "  inflating: /content/drive/MyDrive/FDP_DL@ASIET/Flower_dataset/tiny_FR/sunflower/184683023_737fec5b18.jpg  \n",
            "  inflating: /content/drive/MyDrive/FDP_DL@ASIET/Flower_dataset/tiny_FR/sunflower/1880606744_23e3dc4f6b_n.jpg  \n",
            "  inflating: /content/drive/MyDrive/FDP_DL@ASIET/Flower_dataset/tiny_FR/sunflower/193874852_fb633d8d00_n.jpg  \n",
            "  inflating: /content/drive/MyDrive/FDP_DL@ASIET/Flower_dataset/tiny_FR/sunflower/193878348_43571127b9_n.jpg  \n",
            "  inflating: /content/drive/MyDrive/FDP_DL@ASIET/Flower_dataset/tiny_FR/sunflower/197011740_21825de2bf.jpg  \n",
            " extracting: /content/drive/MyDrive/FDP_DL@ASIET/Flower_dataset/tiny_FR/sunflower/200011914_93f57ed68b.jpg  \n",
            "  inflating: /content/drive/MyDrive/FDP_DL@ASIET/Flower_dataset/tiny_FR/sunflower/200288046_0032f322ff_n.jpg  \n",
            "  inflating: /content/drive/MyDrive/FDP_DL@ASIET/Flower_dataset/tiny_FR/sunflower/200557977_bf24d9550b.jpg  \n",
            "  inflating: /content/drive/MyDrive/FDP_DL@ASIET/Flower_dataset/tiny_FR/sunflower/200557979_a16112aac1_n.jpg  \n",
            "  inflating: /content/drive/MyDrive/FDP_DL@ASIET/Flower_dataset/tiny_FR/sunflower/200557981_f800fa1af9.jpg  \n",
            "  inflating: /content/drive/MyDrive/FDP_DL@ASIET/Flower_dataset/tiny_FR/sunflower/200557983_10a88672fc.jpg  \n",
            " extracting: /content/drive/MyDrive/FDP_DL@ASIET/Flower_dataset/tiny_FR/sunflower/201809908_0ef84bb351.jpg  \n",
            "  inflating: /content/drive/MyDrive/FDP_DL@ASIET/Flower_dataset/tiny_FR/sunflower/2067882323_8de6623ffd.jpg  \n",
            " extracting: /content/drive/MyDrive/FDP_DL@ASIET/Flower_dataset/tiny_FR/sunflower/210076535_80951bc5d5.jpg  \n",
            " extracting: /content/drive/MyDrive/FDP_DL@ASIET/Flower_dataset/tiny_FR/sunflower/215798352_184d8040d1.jpg  \n",
            "  inflating: /content/drive/MyDrive/FDP_DL@ASIET/Flower_dataset/tiny_FR/sunflower/215798354_429de28c2d.jpg  \n",
            "  inflating: /content/drive/MyDrive/FDP_DL@ASIET/Flower_dataset/tiny_FR/sunflower/215798357_3f4bfa27b7.jpg  \n",
            "  inflating: /content/drive/MyDrive/FDP_DL@ASIET/Flower_dataset/tiny_FR/sunflower/2307673262_e1e1aefd29.jpg  \n",
            "  inflating: /content/drive/MyDrive/FDP_DL@ASIET/Flower_dataset/tiny_FR/sunflower/2328600790_90e2942557_n.jpg  \n",
            "  inflating: /content/drive/MyDrive/FDP_DL@ASIET/Flower_dataset/tiny_FR/sunflower/235651658_a7b3e7cbdd.jpg  \n",
            "  inflating: /content/drive/MyDrive/FDP_DL@ASIET/Flower_dataset/tiny_FR/sunflower/2425164088_4a5d2cdf21_n.jpg  \n",
            " extracting: /content/drive/MyDrive/FDP_DL@ASIET/Flower_dataset/tiny_FR/sunflower/244074259_47ce6d3ef9.jpg  \n",
            "  inflating: /content/drive/MyDrive/FDP_DL@ASIET/Flower_dataset/tiny_FR/sunflower/2442985637_8748180f69.jpg  \n",
            "  inflating: /content/drive/MyDrive/FDP_DL@ASIET/Flower_dataset/tiny_FR/sunflower/2443095419_17b920d155_m.jpg  \n",
            "  inflating: /content/drive/MyDrive/FDP_DL@ASIET/Flower_dataset/tiny_FR/sunflower/2443921986_d4582c123a.jpg  \n",
            "  inflating: /content/drive/MyDrive/FDP_DL@ASIET/Flower_dataset/tiny_FR/sunflower/24459548_27a783feda.jpg  \n",
            "  inflating: /content/drive/MyDrive/FDP_DL@ASIET/Flower_dataset/tiny_FR/sunflower/24459750_eb49f6e4cb_m.jpg  \n",
            "  inflating: /content/drive/MyDrive/FDP_DL@ASIET/Flower_dataset/tiny_FR/sunflower/253586685_ee5b5f5232.jpg  \n",
            "  inflating: /content/drive/MyDrive/FDP_DL@ASIET/Flower_dataset/tiny_FR/sunflower/2575272111_f04d79b9af_n.jpg  \n",
            "  inflating: /content/drive/MyDrive/FDP_DL@ASIET/Flower_dataset/tiny_FR/sunflower/2588234269_c4bfd0d8b9_n.jpg  \n",
            "  inflating: /content/drive/MyDrive/FDP_DL@ASIET/Flower_dataset/tiny_FR/sunflower/2588453601_66f2a03cca_n.jpg  \n",
            "  inflating: /content/drive/MyDrive/FDP_DL@ASIET/Flower_dataset/tiny_FR/sunflower/2598973480_07de93e91d_n.jpg  \n",
            "  inflating: /content/drive/MyDrive/FDP_DL@ASIET/Flower_dataset/tiny_FR/sunflower/2619000556_6634478e64_n.jpg  \n",
            "  inflating: /content/drive/MyDrive/FDP_DL@ASIET/Flower_dataset/tiny_FR/sunflower/26254755_1bfc494ef1_n.jpg  \n",
            "  inflating: /content/drive/MyDrive/FDP_DL@ASIET/Flower_dataset/tiny_FR/sunflower/265422922_bbbde781d2_m.jpg  \n",
            " extracting: /content/drive/MyDrive/FDP_DL@ASIET/Flower_dataset/tiny_FR/sunflower/265450085_6e9f276e2e.jpg  \n",
            "  inflating: /content/drive/MyDrive/FDP_DL@ASIET/Flower_dataset/tiny_FR/sunflower/27465811_9477c9d044.jpg  \n",
            "  inflating: /content/drive/MyDrive/FDP_DL@ASIET/Flower_dataset/tiny_FR/sunflower/27466794_57e4fe5656.jpg  \n",
            "  inflating: /content/drive/MyDrive/FDP_DL@ASIET/Flower_dataset/tiny_FR/sunflower/274846229_990e976683_n.jpg  \n",
            "  inflating: /content/drive/MyDrive/FDP_DL@ASIET/Flower_dataset/tiny_FR/sunflower/274848710_5185cf33b1_n.jpg  \n",
            "  inflating: /content/drive/MyDrive/FDP_DL@ASIET/Flower_dataset/tiny_FR/sunflower/287233531_74d4605814_m.jpg  \n",
            "  inflating: /content/drive/MyDrive/FDP_DL@ASIET/Flower_dataset/tiny_FR/sunflower/29972905_4cc537ff4b_n.jpg  \n",
            "  inflating: /content/drive/MyDrive/FDP_DL@ASIET/Flower_dataset/tiny_FR/sunflower/310380634_60e6c79989.jpg  \n",
            "  inflating: /content/drive/MyDrive/FDP_DL@ASIET/Flower_dataset/tiny_FR/sunflower/35477171_13cb52115c_n.jpg  \n",
            "  inflating: /content/drive/MyDrive/FDP_DL@ASIET/Flower_dataset/tiny_FR/sunflower/39271782_b4335d09ae_n.jpg  \n",
            "  inflating: /content/drive/MyDrive/FDP_DL@ASIET/Flower_dataset/tiny_FR/sunflower/40410686_272bc66faf_m.jpg  \n",
            "  inflating: /content/drive/MyDrive/FDP_DL@ASIET/Flower_dataset/tiny_FR/sunflower/40410814_fba3837226_n.jpg  \n",
            "  inflating: /content/drive/MyDrive/FDP_DL@ASIET/Flower_dataset/tiny_FR/sunflower/40410963_3ac280f23a_n.jpg  \n",
            "  inflating: /content/drive/MyDrive/FDP_DL@ASIET/Flower_dataset/tiny_FR/sunflower/40411019_526f3fc8d9_m.jpg  \n",
            "  inflating: /content/drive/MyDrive/FDP_DL@ASIET/Flower_dataset/tiny_FR/sunflower/40411100_7fbe10ec0f_n.jpg  \n",
            "  inflating: /content/drive/MyDrive/FDP_DL@ASIET/Flower_dataset/tiny_FR/sunflower/417251603_69f0ee57a9_m.jpg  \n",
            "  inflating: /content/drive/MyDrive/FDP_DL@ASIET/Flower_dataset/tiny_FR/sunflower/418056361_1dfac1c151_n.jpg  \n",
            "  inflating: /content/drive/MyDrive/FDP_DL@ASIET/Flower_dataset/tiny_FR/sunflower/44079668_34dfee3da1_n.jpg  \n",
            "  inflating: /content/drive/MyDrive/FDP_DL@ASIET/Flower_dataset/tiny_FR/sunflower/45045003_30bbd0a142_m.jpg  \n",
            "  inflating: /content/drive/MyDrive/FDP_DL@ASIET/Flower_dataset/tiny_FR/sunflower/45045005_57354ee844.jpg  \n",
            "  inflating: /content/drive/MyDrive/FDP_DL@ASIET/Flower_dataset/tiny_FR/sunflower/50987813_7484bfbcdf.jpg  \n",
            "  inflating: /content/drive/MyDrive/FDP_DL@ASIET/Flower_dataset/tiny_FR/sunflower/58636535_bc53ef0a21_m.jpg  \n",
            "  inflating: /content/drive/MyDrive/FDP_DL@ASIET/Flower_dataset/tiny_FR/sunflower/678714585_addc9aaaef.jpg  \n",
            "  inflating: /content/drive/MyDrive/FDP_DL@ASIET/Flower_dataset/tiny_FR/sunflower/6953297_8576bf4ea3.jpg  \n",
            "  inflating: /content/drive/MyDrive/FDP_DL@ASIET/Flower_dataset/tiny_FR/sunflower/821368661_4ab4343f5a.jpg  \n",
            "  inflating: /content/drive/MyDrive/FDP_DL@ASIET/Flower_dataset/tiny_FR/sunflower/857698097_8068a2c135_n.jpg  \n",
            "  inflating: /content/drive/MyDrive/FDP_DL@ASIET/Flower_dataset/tiny_FR/sunflower/864957037_c75373d1c5.jpg  \n",
            "  inflating: /content/drive/MyDrive/FDP_DL@ASIET/Flower_dataset/tiny_FR/sunflower/877083343_e3338c4125.jpg  \n",
            "  inflating: /content/drive/MyDrive/FDP_DL@ASIET/Flower_dataset/tiny_FR/sunflower/969913643_9d5cd2fe45_m.jpg  \n",
            "   creating: /content/drive/MyDrive/FDP_DL@ASIET/Flower_dataset/tiny_FR/tulip/\n",
            "  inflating: /content/drive/MyDrive/FDP_DL@ASIET/Flower_dataset/tiny_FR/tulip/100930342_92e8746431_n.jpg  \n",
            "  inflating: /content/drive/MyDrive/FDP_DL@ASIET/Flower_dataset/tiny_FR/tulip/107693873_86021ac4ea_n.jpg  \n",
            "  inflating: /content/drive/MyDrive/FDP_DL@ASIET/Flower_dataset/tiny_FR/tulip/10791227_7168491604.jpg  \n",
            " extracting: /content/drive/MyDrive/FDP_DL@ASIET/Flower_dataset/tiny_FR/tulip/110147301_ad921e2828.jpg  \n",
            "  inflating: /content/drive/MyDrive/FDP_DL@ASIET/Flower_dataset/tiny_FR/tulip/112334842_3ecf7585dd.jpg  \n",
            "  inflating: /content/drive/MyDrive/FDP_DL@ASIET/Flower_dataset/tiny_FR/tulip/112428665_d8f3632f36_n.jpg  \n",
            "  inflating: /content/drive/MyDrive/FDP_DL@ASIET/Flower_dataset/tiny_FR/tulip/112428919_f0c5ad7d9d_n.jpg  \n",
            "  inflating: /content/drive/MyDrive/FDP_DL@ASIET/Flower_dataset/tiny_FR/tulip/112650879_82adc2cc04_n.jpg  \n",
            "  inflating: /content/drive/MyDrive/FDP_DL@ASIET/Flower_dataset/tiny_FR/tulip/112651128_7b5d39a346_m.jpg  \n",
            "  inflating: /content/drive/MyDrive/FDP_DL@ASIET/Flower_dataset/tiny_FR/tulip/112951022_4892b1348b_n.jpg  \n",
            "  inflating: /content/drive/MyDrive/FDP_DL@ASIET/Flower_dataset/tiny_FR/tulip/112951086_150a59d499_n.jpg  \n",
            "  inflating: /content/drive/MyDrive/FDP_DL@ASIET/Flower_dataset/tiny_FR/tulip/113291410_1bdc718ed8_n.jpg  \n",
            "  inflating: /content/drive/MyDrive/FDP_DL@ASIET/Flower_dataset/tiny_FR/tulip/113902743_8f537f769b_n.jpg  \n",
            "  inflating: /content/drive/MyDrive/FDP_DL@ASIET/Flower_dataset/tiny_FR/tulip/113960470_38fab8f2fb_m.jpg  \n",
            "  inflating: /content/drive/MyDrive/FDP_DL@ASIET/Flower_dataset/tiny_FR/tulip/116343334_9cb4acdc57_n.jpg  \n",
            "  inflating: /content/drive/MyDrive/FDP_DL@ASIET/Flower_dataset/tiny_FR/tulip/11746080_963537acdc.jpg  \n",
            "  inflating: /content/drive/MyDrive/FDP_DL@ASIET/Flower_dataset/tiny_FR/tulip/11746276_de3dec8201.jpg  \n",
            "  inflating: /content/drive/MyDrive/FDP_DL@ASIET/Flower_dataset/tiny_FR/tulip/11746367_d23a35b085_n.jpg  \n",
            "  inflating: /content/drive/MyDrive/FDP_DL@ASIET/Flower_dataset/tiny_FR/tulip/11746452_5bc1749a36.jpg  \n",
            "  inflating: /content/drive/MyDrive/FDP_DL@ASIET/Flower_dataset/tiny_FR/tulip/11746548_26b3256922_n.jpg  \n",
            "  inflating: /content/drive/MyDrive/FDP_DL@ASIET/Flower_dataset/tiny_FR/tulip/122450705_9885fff3c4_n.jpg  \n",
            "  inflating: /content/drive/MyDrive/FDP_DL@ASIET/Flower_dataset/tiny_FR/tulip/130685040_3c2fcec63e_n.jpg  \n",
            "  inflating: /content/drive/MyDrive/FDP_DL@ASIET/Flower_dataset/tiny_FR/tulip/130685347_afbffe3afa_n.jpg  \n",
            "  inflating: /content/drive/MyDrive/FDP_DL@ASIET/Flower_dataset/tiny_FR/tulip/132538272_63658146d9_n.jpg  \n",
            "  inflating: /content/drive/MyDrive/FDP_DL@ASIET/Flower_dataset/tiny_FR/tulip/132538273_335240fe5b_n.jpg  \n",
            "  inflating: /content/drive/MyDrive/FDP_DL@ASIET/Flower_dataset/tiny_FR/tulip/133692329_c1150ed811_n.jpg  \n",
            "  inflating: /content/drive/MyDrive/FDP_DL@ASIET/Flower_dataset/tiny_FR/tulip/133858239_3eaa8a91fd_n.jpg  \n",
            "  inflating: /content/drive/MyDrive/FDP_DL@ASIET/Flower_dataset/tiny_FR/tulip/133960364_d87f883c15_n.jpg  \n",
            "  inflating: /content/drive/MyDrive/FDP_DL@ASIET/Flower_dataset/tiny_FR/tulip/134143359_71fa8dd9a4.jpg  \n",
            "  inflating: /content/drive/MyDrive/FDP_DL@ASIET/Flower_dataset/tiny_FR/tulip/1353748522_b9c630b162.jpg  \n",
            "  inflating: /content/drive/MyDrive/FDP_DL@ASIET/Flower_dataset/tiny_FR/tulip/135994133_4f306fe4bf_n.jpg  \n",
            "  inflating: /content/drive/MyDrive/FDP_DL@ASIET/Flower_dataset/tiny_FR/tulip/137126311_debe64c6a8_n.jpg  \n",
            "  inflating: /content/drive/MyDrive/FDP_DL@ASIET/Flower_dataset/tiny_FR/tulip/142218310_d06005030a_n.jpg  \n",
            "  inflating: /content/drive/MyDrive/FDP_DL@ASIET/Flower_dataset/tiny_FR/tulip/142235017_07816937c6.jpg  \n",
            "  inflating: /content/drive/MyDrive/FDP_DL@ASIET/Flower_dataset/tiny_FR/tulip/142235237_da662d925c.jpg  \n",
            "  inflating: /content/drive/MyDrive/FDP_DL@ASIET/Flower_dataset/tiny_FR/tulip/142235914_5419ff8a4a.jpg  \n",
            "  inflating: /content/drive/MyDrive/FDP_DL@ASIET/Flower_dataset/tiny_FR/tulip/146884869_b1a8fa9c4e_n.jpg  \n",
            "  inflating: /content/drive/MyDrive/FDP_DL@ASIET/Flower_dataset/tiny_FR/tulip/14957470_6a8c272a87_m.jpg  \n",
            " extracting: /content/drive/MyDrive/FDP_DL@ASIET/Flower_dataset/tiny_FR/tulip/155097272_70feb13184.jpg  \n",
            "  inflating: /content/drive/MyDrive/FDP_DL@ASIET/Flower_dataset/tiny_FR/tulip/164578909_51f245d3fa_n.jpg  \n",
            " extracting: /content/drive/MyDrive/FDP_DL@ASIET/Flower_dataset/tiny_FR/tulip/175686816_067a8cb4c5.jpg  \n",
            "  inflating: /content/drive/MyDrive/FDP_DL@ASIET/Flower_dataset/tiny_FR/tulip/176458518_f81d4bff8e.jpg  \n",
            "  inflating: /content/drive/MyDrive/FDP_DL@ASIET/Flower_dataset/tiny_FR/tulip/2087981909_fd468de5c4_n.jpg  \n",
            "  inflating: /content/drive/MyDrive/FDP_DL@ASIET/Flower_dataset/tiny_FR/tulip/212720516_df4965ebda_n.jpg  \n",
            "  inflating: /content/drive/MyDrive/FDP_DL@ASIET/Flower_dataset/tiny_FR/tulip/2220085701_896054d263_n.jpg  \n",
            "  inflating: /content/drive/MyDrive/FDP_DL@ASIET/Flower_dataset/tiny_FR/tulip/2229804138_db9cba3443_n.jpg  \n",
            "  inflating: /content/drive/MyDrive/FDP_DL@ASIET/Flower_dataset/tiny_FR/tulip/2232289392_9a79a0c5cb_n.jpg  \n",
            "  inflating: /content/drive/MyDrive/FDP_DL@ASIET/Flower_dataset/tiny_FR/tulip/2243427551_809b603992_z.jpg  \n",
            "  inflating: /content/drive/MyDrive/FDP_DL@ASIET/Flower_dataset/tiny_FR/tulip/2249756775_02e693beda_n.jpg  \n",
            "  inflating: /content/drive/MyDrive/FDP_DL@ASIET/Flower_dataset/tiny_FR/tulip/2254152047_d3bf8903cd_n.jpg  \n",
            "  inflating: /content/drive/MyDrive/FDP_DL@ASIET/Flower_dataset/tiny_FR/tulip/2256214682_130c01d9d9.jpg  \n",
            " extracting: /content/drive/MyDrive/FDP_DL@ASIET/Flower_dataset/tiny_FR/tulip/2256230386_08b54ca760.jpg  \n",
            "  inflating: /content/drive/MyDrive/FDP_DL@ASIET/Flower_dataset/tiny_FR/tulip/2271507463_15c48d41c4_n.jpg  \n",
            "  inflating: /content/drive/MyDrive/FDP_DL@ASIET/Flower_dataset/tiny_FR/tulip/2272006181_785f1be94f_n.jpg  \n",
            "  inflating: /content/drive/MyDrive/FDP_DL@ASIET/Flower_dataset/tiny_FR/tulip/2280950463_86510c2789_n.jpg  \n",
            "  inflating: /content/drive/MyDrive/FDP_DL@ASIET/Flower_dataset/tiny_FR/tulip/2294116183_a30d2aa2c1_m.jpg  \n",
            "  inflating: /content/drive/MyDrive/FDP_DL@ASIET/Flower_dataset/tiny_FR/tulip/2322670828_34115a7050.jpg  \n",
            "  inflating: /content/drive/MyDrive/FDP_DL@ASIET/Flower_dataset/tiny_FR/tulip/2333321040_3960b9d67e_n.jpg  \n",
            "  inflating: /content/drive/MyDrive/FDP_DL@ASIET/Flower_dataset/tiny_FR/tulip/2336919121_851ebc4754.jpg  \n",
            "  inflating: /content/drive/MyDrive/FDP_DL@ASIET/Flower_dataset/tiny_FR/tulip/2344751399_71620039f2_n.jpg  \n",
            "  inflating: /content/drive/MyDrive/FDP_DL@ASIET/Flower_dataset/tiny_FR/tulip/2351637471_5dd34fd3ac_n.jpg  \n",
            "  inflating: /content/drive/MyDrive/FDP_DL@ASIET/Flower_dataset/tiny_FR/tulip/2361075034_cf730b8682.jpg  \n",
            "  inflating: /content/drive/MyDrive/FDP_DL@ASIET/Flower_dataset/tiny_FR/tulip/2374855021_21959b40c0_n.jpg  \n",
            "  inflating: /content/drive/MyDrive/FDP_DL@ASIET/Flower_dataset/tiny_FR/tulip/2399982682_16929d1f6d_n.jpg  \n",
            "  inflating: /content/drive/MyDrive/FDP_DL@ASIET/Flower_dataset/tiny_FR/tulip/2402342888_dd65677013.jpg  \n",
            "  inflating: /content/drive/MyDrive/FDP_DL@ASIET/Flower_dataset/tiny_FR/tulip/2412250315_a04171da51_n.jpg  \n",
            "  inflating: /content/drive/MyDrive/FDP_DL@ASIET/Flower_dataset/tiny_FR/tulip/2418823693_72eec80f42_n.jpg  \n",
            "  inflating: /content/drive/MyDrive/FDP_DL@ASIET/Flower_dataset/tiny_FR/tulip/2421740440_f82ced8582.jpg  \n",
            "  inflating: /content/drive/MyDrive/FDP_DL@ASIET/Flower_dataset/tiny_FR/tulip/2425067141_b27043a800_m.jpg  \n",
            "  inflating: /content/drive/MyDrive/FDP_DL@ASIET/Flower_dataset/tiny_FR/tulip/251811158_75fa3034ff.jpg  \n",
            "  inflating: /content/drive/MyDrive/FDP_DL@ASIET/Flower_dataset/tiny_FR/tulip/303858799_942b9c09e7_m.jpg  \n",
            "  inflating: /content/drive/MyDrive/FDP_DL@ASIET/Flower_dataset/tiny_FR/tulip/38287568_627de6ca20.jpg  \n",
            "  inflating: /content/drive/MyDrive/FDP_DL@ASIET/Flower_dataset/tiny_FR/tulip/391477275_7c2f50a1a7_m.jpg  \n",
            "  inflating: /content/drive/MyDrive/FDP_DL@ASIET/Flower_dataset/tiny_FR/tulip/402525114_eaa60c8341_m.jpg  \n",
            "  inflating: /content/drive/MyDrive/FDP_DL@ASIET/Flower_dataset/tiny_FR/tulip/405035580_94b793e71d.jpg  \n",
            "  inflating: /content/drive/MyDrive/FDP_DL@ASIET/Flower_dataset/tiny_FR/tulip/420216121_3ee33723d7_m.jpg  \n",
            "  inflating: /content/drive/MyDrive/FDP_DL@ASIET/Flower_dataset/tiny_FR/tulip/430785322_7ddef64c68_m.jpg  \n",
            "  inflating: /content/drive/MyDrive/FDP_DL@ASIET/Flower_dataset/tiny_FR/tulip/434146736_310a42d9cb_m.jpg  \n",
            "  inflating: /content/drive/MyDrive/FDP_DL@ASIET/Flower_dataset/tiny_FR/tulip/440714501_9f8268e1b0.jpg  \n",
            "  inflating: /content/drive/MyDrive/FDP_DL@ASIET/Flower_dataset/tiny_FR/tulip/443600168_cb08d56511.jpg  \n",
            "  inflating: /content/drive/MyDrive/FDP_DL@ASIET/Flower_dataset/tiny_FR/tulip/444963906_e41492b692.jpg  \n",
            "  inflating: /content/drive/MyDrive/FDP_DL@ASIET/Flower_dataset/tiny_FR/tulip/450607536_4fd9f5d17c_m.jpg  \n",
            "  inflating: /content/drive/MyDrive/FDP_DL@ASIET/Flower_dataset/tiny_FR/tulip/466409031_4c10294db5_m.jpg  \n",
            "  inflating: /content/drive/MyDrive/FDP_DL@ASIET/Flower_dataset/tiny_FR/tulip/467702445_b8676f60fb_n.jpg  \n",
            "  inflating: /content/drive/MyDrive/FDP_DL@ASIET/Flower_dataset/tiny_FR/tulip/471298577_cc7558bcf1.jpg  \n",
            "  inflating: /content/drive/MyDrive/FDP_DL@ASIET/Flower_dataset/tiny_FR/tulip/478765271_6a8ca1cfa1_m.jpg  \n",
            "  inflating: /content/drive/MyDrive/FDP_DL@ASIET/Flower_dataset/tiny_FR/tulip/480228053_513791d474.jpg  \n",
            "  inflating: /content/drive/MyDrive/FDP_DL@ASIET/Flower_dataset/tiny_FR/tulip/483880052_19fdb26a9f.jpg  \n",
            "  inflating: /content/drive/MyDrive/FDP_DL@ASIET/Flower_dataset/tiny_FR/tulip/485266837_671def8627.jpg  \n",
            "  inflating: /content/drive/MyDrive/FDP_DL@ASIET/Flower_dataset/tiny_FR/tulip/485415743_eeb5d7c1a5.jpg  \n",
            "  inflating: /content/drive/MyDrive/FDP_DL@ASIET/Flower_dataset/tiny_FR/tulip/489506904_9b68ba211c.jpg  \n",
            "  inflating: /content/drive/MyDrive/FDP_DL@ASIET/Flower_dataset/tiny_FR/tulip/490541142_c37e2b4191_n.jpg  \n",
            "  inflating: /content/drive/MyDrive/FDP_DL@ASIET/Flower_dataset/tiny_FR/tulip/497305666_b5d4348826_n.jpg  \n",
            "  inflating: /content/drive/MyDrive/FDP_DL@ASIET/Flower_dataset/tiny_FR/tulip/503770507_f397245a6a.jpg  \n",
            "  inflating: /content/drive/MyDrive/FDP_DL@ASIET/Flower_dataset/tiny_FR/tulip/510698601_9f61d6f8d8.jpg  \n",
            "  inflating: /content/drive/MyDrive/FDP_DL@ASIET/Flower_dataset/tiny_FR/tulip/518256494_368a72db37.jpg  \n",
            "  inflating: /content/drive/MyDrive/FDP_DL@ASIET/Flower_dataset/tiny_FR/tulip/65347450_53658c63bd_n.jpg  \n",
            "  inflating: /content/drive/MyDrive/FDP_DL@ASIET/Flower_dataset/tiny_FR/tulip/738207467_fc59cfcd9b_z.jpg  \n",
            "  inflating: /content/drive/MyDrive/FDP_DL@ASIET/Flower_dataset/tiny_FR/tulip/779359602_30abcbf5bb_n.jpg  \n",
            "  inflating: /content/drive/MyDrive/FDP_DL@ASIET/Flower_dataset/tiny_FR/tulip/924782410_94ed7913ca_m.jpg  \n"
          ]
        }
      ]
    },
    {
      "cell_type": "code",
      "source": [
        "imgFiles=glob.glob('/content/drive/MyDrive/FDP_DL@ASIET/Flower_dataset/tiny_FR/*/*jpg')\n"
      ],
      "metadata": {
        "id": "2xX2R64xJRfu"
      },
      "execution_count": null,
      "outputs": []
    },
    {
      "cell_type": "code",
      "source": [
        "for items in imgFiles[:8]:\n",
        "  print(items)"
      ],
      "metadata": {
        "colab": {
          "base_uri": "https://localhost:8080/"
        },
        "id": "ed0hrTzhKkRG",
        "outputId": "fe398dce-598d-49f4-d11d-9ffd805223f7"
      },
      "execution_count": null,
      "outputs": [
        {
          "output_type": "stream",
          "name": "stdout",
          "text": [
            "/content/drive/MyDrive/FDP_DL@ASIET/Flower_dataset/tiny_FR/daisy/100080576_f52e8ee070_n.jpg\n",
            "/content/drive/MyDrive/FDP_DL@ASIET/Flower_dataset/tiny_FR/daisy/102841525_bd6628ae3c.jpg\n",
            "/content/drive/MyDrive/FDP_DL@ASIET/Flower_dataset/tiny_FR/daisy/1031799732_e7f4008c03.jpg\n",
            "/content/drive/MyDrive/FDP_DL@ASIET/Flower_dataset/tiny_FR/daisy/105806915_a9c13e2106_n.jpg\n",
            "/content/drive/MyDrive/FDP_DL@ASIET/Flower_dataset/tiny_FR/daisy/107592979_aaa9cdfe78_m.jpg\n",
            "/content/drive/MyDrive/FDP_DL@ASIET/Flower_dataset/tiny_FR/daisy/1140299375_3aa7024466.jpg\n",
            "/content/drive/MyDrive/FDP_DL@ASIET/Flower_dataset/tiny_FR/daisy/1150395827_6f94a5c6e4_n.jpg\n",
            "/content/drive/MyDrive/FDP_DL@ASIET/Flower_dataset/tiny_FR/daisy/11642632_1e7627a2cc.jpg\n"
          ]
        }
      ]
    },
    {
      "cell_type": "code",
      "source": [
        "X=[]\n",
        "Y=[]\n",
        "for fName in imgFiles:\n",
        "  X_i=Image.open(fName)\n",
        "  X_i=X_i.resize((299,299))\n",
        "  X_i=np.array(X_i) / 255.0\n",
        "  X.append(X_i)\n",
        "  label=fName.split(\"/\")\n",
        "  y_i=label[7]\n",
        "  Y.append(y_i)"
      ],
      "metadata": {
        "id": "UWNqCtnEKxgu"
      },
      "execution_count": null,
      "outputs": []
    },
    {
      "cell_type": "code",
      "source": [
        "print(Y)"
      ],
      "metadata": {
        "colab": {
          "base_uri": "https://localhost:8080/"
        },
        "id": "Bt1sBLhLOVFY",
        "outputId": "daf25694-9d5b-42db-b15a-f50feb7e4a9e"
      },
      "execution_count": null,
      "outputs": [
        {
          "output_type": "stream",
          "name": "stdout",
          "text": [
            "['daisy', 'daisy', 'daisy', 'daisy', 'daisy', 'daisy', 'daisy', 'daisy', 'daisy', 'daisy', 'daisy', 'daisy', 'daisy', 'daisy', 'daisy', 'daisy', 'daisy', 'daisy', 'daisy', 'daisy', 'daisy', 'daisy', 'daisy', 'daisy', 'daisy', 'daisy', 'daisy', 'daisy', 'daisy', 'daisy', 'daisy', 'daisy', 'daisy', 'daisy', 'daisy', 'daisy', 'daisy', 'daisy', 'daisy', 'daisy', 'daisy', 'daisy', 'daisy', 'daisy', 'daisy', 'daisy', 'daisy', 'daisy', 'daisy', 'daisy', 'daisy', 'daisy', 'daisy', 'daisy', 'daisy', 'daisy', 'daisy', 'daisy', 'daisy', 'daisy', 'daisy', 'daisy', 'daisy', 'daisy', 'daisy', 'daisy', 'daisy', 'daisy', 'daisy', 'daisy', 'daisy', 'daisy', 'daisy', 'daisy', 'daisy', 'daisy', 'daisy', 'daisy', 'daisy', 'daisy', 'daisy', 'daisy', 'daisy', 'daisy', 'daisy', 'daisy', 'daisy', 'daisy', 'daisy', 'daisy', 'daisy', 'daisy', 'daisy', 'daisy', 'daisy', 'daisy', 'daisy', 'daisy', 'daisy', 'daisy', 'dandelion', 'dandelion', 'dandelion', 'dandelion', 'dandelion', 'dandelion', 'dandelion', 'dandelion', 'dandelion', 'dandelion', 'dandelion', 'dandelion', 'dandelion', 'dandelion', 'dandelion', 'dandelion', 'dandelion', 'dandelion', 'dandelion', 'dandelion', 'dandelion', 'dandelion', 'dandelion', 'dandelion', 'dandelion', 'dandelion', 'dandelion', 'dandelion', 'dandelion', 'dandelion', 'dandelion', 'dandelion', 'dandelion', 'dandelion', 'dandelion', 'dandelion', 'dandelion', 'dandelion', 'dandelion', 'dandelion', 'dandelion', 'dandelion', 'dandelion', 'dandelion', 'dandelion', 'dandelion', 'dandelion', 'dandelion', 'dandelion', 'dandelion', 'dandelion', 'dandelion', 'dandelion', 'dandelion', 'dandelion', 'dandelion', 'dandelion', 'dandelion', 'dandelion', 'dandelion', 'dandelion', 'dandelion', 'dandelion', 'dandelion', 'dandelion', 'dandelion', 'dandelion', 'dandelion', 'dandelion', 'dandelion', 'dandelion', 'dandelion', 'dandelion', 'dandelion', 'dandelion', 'dandelion', 'dandelion', 'dandelion', 'dandelion', 'dandelion', 'dandelion', 'dandelion', 'dandelion', 'dandelion', 'dandelion', 'dandelion', 'dandelion', 'dandelion', 'dandelion', 'dandelion', 'dandelion', 'dandelion', 'dandelion', 'dandelion', 'dandelion', 'dandelion', 'dandelion', 'dandelion', 'dandelion', 'dandelion', 'rose', 'rose', 'rose', 'rose', 'rose', 'rose', 'rose', 'rose', 'rose', 'rose', 'rose', 'rose', 'rose', 'rose', 'rose', 'rose', 'rose', 'rose', 'rose', 'rose', 'rose', 'rose', 'rose', 'rose', 'rose', 'rose', 'rose', 'rose', 'rose', 'rose', 'rose', 'rose', 'rose', 'rose', 'rose', 'rose', 'rose', 'rose', 'rose', 'rose', 'rose', 'rose', 'rose', 'rose', 'rose', 'rose', 'rose', 'rose', 'rose', 'rose', 'rose', 'rose', 'rose', 'rose', 'rose', 'rose', 'rose', 'rose', 'rose', 'rose', 'rose', 'rose', 'rose', 'rose', 'rose', 'rose', 'rose', 'rose', 'rose', 'rose', 'rose', 'rose', 'rose', 'rose', 'rose', 'rose', 'rose', 'rose', 'rose', 'rose', 'rose', 'rose', 'rose', 'rose', 'rose', 'rose', 'rose', 'rose', 'rose', 'rose', 'rose', 'rose', 'rose', 'rose', 'rose', 'rose', 'rose', 'rose', 'rose', 'rose', 'sunflower', 'sunflower', 'sunflower', 'sunflower', 'sunflower', 'sunflower', 'sunflower', 'sunflower', 'sunflower', 'sunflower', 'sunflower', 'sunflower', 'sunflower', 'sunflower', 'sunflower', 'sunflower', 'sunflower', 'sunflower', 'sunflower', 'sunflower', 'sunflower', 'sunflower', 'sunflower', 'sunflower', 'sunflower', 'sunflower', 'sunflower', 'sunflower', 'sunflower', 'sunflower', 'sunflower', 'sunflower', 'sunflower', 'sunflower', 'sunflower', 'sunflower', 'sunflower', 'sunflower', 'sunflower', 'sunflower', 'sunflower', 'sunflower', 'sunflower', 'sunflower', 'sunflower', 'sunflower', 'sunflower', 'sunflower', 'sunflower', 'sunflower', 'sunflower', 'sunflower', 'sunflower', 'sunflower', 'sunflower', 'sunflower', 'sunflower', 'sunflower', 'sunflower', 'sunflower', 'sunflower', 'sunflower', 'sunflower', 'sunflower', 'sunflower', 'sunflower', 'sunflower', 'sunflower', 'sunflower', 'sunflower', 'sunflower', 'sunflower', 'sunflower', 'sunflower', 'sunflower', 'sunflower', 'sunflower', 'sunflower', 'sunflower', 'sunflower', 'sunflower', 'sunflower', 'sunflower', 'sunflower', 'sunflower', 'sunflower', 'sunflower', 'sunflower', 'sunflower', 'sunflower', 'sunflower', 'sunflower', 'sunflower', 'sunflower', 'sunflower', 'sunflower', 'sunflower', 'sunflower', 'sunflower', 'sunflower', 'tulip', 'tulip', 'tulip', 'tulip', 'tulip', 'tulip', 'tulip', 'tulip', 'tulip', 'tulip', 'tulip', 'tulip', 'tulip', 'tulip', 'tulip', 'tulip', 'tulip', 'tulip', 'tulip', 'tulip', 'tulip', 'tulip', 'tulip', 'tulip', 'tulip', 'tulip', 'tulip', 'tulip', 'tulip', 'tulip', 'tulip', 'tulip', 'tulip', 'tulip', 'tulip', 'tulip', 'tulip', 'tulip', 'tulip', 'tulip', 'tulip', 'tulip', 'tulip', 'tulip', 'tulip', 'tulip', 'tulip', 'tulip', 'tulip', 'tulip', 'tulip', 'tulip', 'tulip', 'tulip', 'tulip', 'tulip', 'tulip', 'tulip', 'tulip', 'tulip', 'tulip', 'tulip', 'tulip', 'tulip', 'tulip', 'tulip', 'tulip', 'tulip', 'tulip', 'tulip', 'tulip', 'tulip', 'tulip', 'tulip', 'tulip', 'tulip', 'tulip', 'tulip', 'tulip', 'tulip', 'tulip', 'tulip', 'tulip', 'tulip', 'tulip', 'tulip', 'tulip', 'tulip', 'tulip', 'tulip', 'tulip', 'tulip', 'tulip', 'tulip', 'tulip', 'tulip', 'tulip', 'tulip', 'tulip', 'tulip']\n"
          ]
        }
      ]
    },
    {
      "cell_type": "code",
      "source": [
        "print(set(Y))"
      ],
      "metadata": {
        "colab": {
          "base_uri": "https://localhost:8080/"
        },
        "id": "1vpC3Vb0Odpv",
        "outputId": "fd59f105-d99a-4d35-acd4-04f80edfcd0b"
      },
      "execution_count": null,
      "outputs": [
        {
          "output_type": "stream",
          "name": "stdout",
          "text": [
            "{'dandelion', 'daisy', 'sunflower', 'tulip', 'rose'}\n"
          ]
        }
      ]
    },
    {
      "cell_type": "code",
      "source": [
        "from sklearn.preprocessing import LabelEncoder\n",
        "lEncoder=LabelEncoder()\n",
        "y=lEncoder.fit_transform(Y)\n",
        "print(y)\n",
        "print(set(y))"
      ],
      "metadata": {
        "colab": {
          "base_uri": "https://localhost:8080/"
        },
        "id": "kqnv5v1YOnYV",
        "outputId": "274297ce-6277-4d3b-af0a-fa23354c50ee"
      },
      "execution_count": null,
      "outputs": [
        {
          "output_type": "stream",
          "name": "stdout",
          "text": [
            "[0 0 0 0 0 0 0 0 0 0 0 0 0 0 0 0 0 0 0 0 0 0 0 0 0 0 0 0 0 0 0 0 0 0 0 0 0\n",
            " 0 0 0 0 0 0 0 0 0 0 0 0 0 0 0 0 0 0 0 0 0 0 0 0 0 0 0 0 0 0 0 0 0 0 0 0 0\n",
            " 0 0 0 0 0 0 0 0 0 0 0 0 0 0 0 0 0 0 0 0 0 0 0 0 0 0 1 1 1 1 1 1 1 1 1 1 1\n",
            " 1 1 1 1 1 1 1 1 1 1 1 1 1 1 1 1 1 1 1 1 1 1 1 1 1 1 1 1 1 1 1 1 1 1 1 1 1\n",
            " 1 1 1 1 1 1 1 1 1 1 1 1 1 1 1 1 1 1 1 1 1 1 1 1 1 1 1 1 1 1 1 1 1 1 1 1 1\n",
            " 1 1 1 1 1 1 1 1 1 1 1 1 1 1 1 2 2 2 2 2 2 2 2 2 2 2 2 2 2 2 2 2 2 2 2 2 2\n",
            " 2 2 2 2 2 2 2 2 2 2 2 2 2 2 2 2 2 2 2 2 2 2 2 2 2 2 2 2 2 2 2 2 2 2 2 2 2\n",
            " 2 2 2 2 2 2 2 2 2 2 2 2 2 2 2 2 2 2 2 2 2 2 2 2 2 2 2 2 2 2 2 2 2 2 2 2 2\n",
            " 2 2 2 2 3 3 3 3 3 3 3 3 3 3 3 3 3 3 3 3 3 3 3 3 3 3 3 3 3 3 3 3 3 3 3 3 3\n",
            " 3 3 3 3 3 3 3 3 3 3 3 3 3 3 3 3 3 3 3 3 3 3 3 3 3 3 3 3 3 3 3 3 3 3 3 3 3\n",
            " 3 3 3 3 3 3 3 3 3 3 3 3 3 3 3 3 3 3 3 3 3 3 3 3 3 3 3 3 3 3 4 4 4 4 4 4 4\n",
            " 4 4 4 4 4 4 4 4 4 4 4 4 4 4 4 4 4 4 4 4 4 4 4 4 4 4 4 4 4 4 4 4 4 4 4 4 4\n",
            " 4 4 4 4 4 4 4 4 4 4 4 4 4 4 4 4 4 4 4 4 4 4 4 4 4 4 4 4 4 4 4 4 4 4 4 4 4\n",
            " 4 4 4 4 4 4 4 4 4 4 4 4 4 4 4 4 4 4 4]\n",
            "{0, 1, 2, 3, 4}\n"
          ]
        }
      ]
    },
    {
      "cell_type": "code",
      "source": [
        "print(lEncoder.classes_)"
      ],
      "metadata": {
        "colab": {
          "base_uri": "https://localhost:8080/"
        },
        "id": "4iNJwQSwQBWq",
        "outputId": "fc13981d-6926-4524-cfd2-53c7c5c05ca0"
      },
      "execution_count": null,
      "outputs": [
        {
          "output_type": "stream",
          "name": "stdout",
          "text": [
            "['daisy' 'dandelion' 'rose' 'sunflower' 'tulip']\n"
          ]
        }
      ]
    },
    {
      "cell_type": "code",
      "source": [
        "X=np.array(X)\n",
        "y=np.array(y)"
      ],
      "metadata": {
        "id": "PYFXDSCSQfSa"
      },
      "execution_count": null,
      "outputs": []
    },
    {
      "cell_type": "code",
      "source": [
        "print(X.shape)\n",
        "print(y.shape)"
      ],
      "metadata": {
        "colab": {
          "base_uri": "https://localhost:8080/"
        },
        "id": "cz5rv6KZQzNa",
        "outputId": "150e8956-10aa-4843-d75f-ebb5a1235551"
      },
      "execution_count": null,
      "outputs": [
        {
          "output_type": "stream",
          "name": "stdout",
          "text": [
            "(500, 299, 299, 3)\n",
            "(500,)\n"
          ]
        }
      ]
    },
    {
      "cell_type": "code",
      "source": [
        "from sklearn.model_selection import train_test_split\n",
        "X_train, X_test, y_train,Y_test=train_test_split(X,y,test_size=.2,stratify=y,random_state=42)\n",
        "print(X_train.shape)"
      ],
      "metadata": {
        "colab": {
          "base_uri": "https://localhost:8080/"
        },
        "id": "AOF6SKGUV-ca",
        "outputId": "c51f1593-4f19-49b6-c9ad-99e00767f555"
      },
      "execution_count": null,
      "outputs": [
        {
          "output_type": "stream",
          "name": "stdout",
          "text": [
            "(400, 299, 299, 3)\n"
          ]
        }
      ]
    },
    {
      "cell_type": "code",
      "source": [
        "print(X_test.shape)"
      ],
      "metadata": {
        "colab": {
          "base_uri": "https://localhost:8080/"
        },
        "id": "rwL3328VXMhy",
        "outputId": "59e23411-2b0c-45aa-cfa7-812101069741"
      },
      "execution_count": null,
      "outputs": [
        {
          "output_type": "stream",
          "name": "stdout",
          "text": [
            "(100, 299, 299, 3)\n"
          ]
        }
      ]
    },
    {
      "cell_type": "code",
      "source": [
        "mu=X_train.mean()\n",
        "std=X_train.std()"
      ],
      "metadata": {
        "id": "41E3UarEXiNO"
      },
      "execution_count": null,
      "outputs": []
    },
    {
      "cell_type": "code",
      "source": [
        "X_train_std=(X_train-mu)/std\n",
        "X_test_std=(X_test-mu)/std"
      ],
      "metadata": {
        "id": "0wdV9AdaXt-r"
      },
      "execution_count": null,
      "outputs": []
    },
    {
      "cell_type": "markdown",
      "source": [
        "Construct Network"
      ],
      "metadata": {
        "id": "k9YV_gllZj5f"
      }
    },
    {
      "cell_type": "code",
      "source": [
        "# Create the network using Functional API metho\n",
        "input_ = keras.layers.Input(shape = X_train.shape[1:])\n",
        "# Construct the convolution based preprocessing part (feature extractor) \n",
        "x = keras.layers.Conv2D(filters=32, kernel_size=5, padding='same', activation='relu')(input_)\n",
        "x = keras.layers.MaxPool2D(pool_size=2)(x)\n",
        "\n",
        "x = keras.layers.Conv2D(filters=64, kernel_size=3, padding='same', activation='relu')(x)\n",
        "x = keras.layers.MaxPool2D(pool_size=2)(x)\n",
        "\n",
        "# Construct the DNN classifier part\n",
        "\n",
        "x = keras.layers.Flatten()(x)\n",
        "x = keras.layers.Dense(units=1000, activation='relu')(x)\n",
        "x = keras.layers.Dense(units=100, activation='relu')(x)\n",
        "output_ = keras.layers.Dense(units=5, activation='softmax')(x)\n",
        "\n",
        "model_CNN = keras.models.Model(inputs=[input_], outputs=[output_])"
      ],
      "metadata": {
        "id": "i1Q60Az6ZoCZ"
      },
      "execution_count": null,
      "outputs": []
    },
    {
      "cell_type": "code",
      "source": [
        "model_CNN.summary()"
      ],
      "metadata": {
        "colab": {
          "base_uri": "https://localhost:8080/"
        },
        "id": "njnejqK8cog9",
        "outputId": "e9650402-c8af-4847-f395-0df91b8d31ef"
      },
      "execution_count": null,
      "outputs": [
        {
          "output_type": "stream",
          "name": "stdout",
          "text": [
            "Model: \"model\"\n",
            "_________________________________________________________________\n",
            " Layer (type)                Output Shape              Param #   \n",
            "=================================================================\n",
            " input_1 (InputLayer)        [(None, 299, 299, 3)]     0         \n",
            "                                                                 \n",
            " conv2d (Conv2D)             (None, 299, 299, 32)      2432      \n",
            "                                                                 \n",
            " max_pooling2d (MaxPooling2D  (None, 149, 149, 32)     0         \n",
            " )                                                               \n",
            "                                                                 \n",
            " conv2d_1 (Conv2D)           (None, 149, 149, 64)      18496     \n",
            "                                                                 \n",
            " max_pooling2d_1 (MaxPooling  (None, 74, 74, 64)       0         \n",
            " 2D)                                                             \n",
            "                                                                 \n",
            " flatten (Flatten)           (None, 350464)            0         \n",
            "                                                                 \n",
            " dense (Dense)               (None, 1000)              350465000 \n",
            "                                                                 \n",
            " dense_1 (Dense)             (None, 100)               100100    \n",
            "                                                                 \n",
            " dense_2 (Dense)             (None, 5)                 505       \n",
            "                                                                 \n",
            "=================================================================\n",
            "Total params: 350,586,533\n",
            "Trainable params: 350,586,533\n",
            "Non-trainable params: 0\n",
            "_________________________________________________________________\n"
          ]
        }
      ]
    },
    {
      "cell_type": "code",
      "source": [
        "tf.keras.utils.plot_model(\n",
        "    model_CNN,\n",
        "    to_file='model_CNN.png',\n",
        "    show_shapes=True,\n",
        "    show_layer_names=True,\n",
        "    rankdir='TB',\n",
        "    expand_nested=False,\n",
        "    dpi=96\n",
        ")"
      ],
      "metadata": {
        "colab": {
          "base_uri": "https://localhost:8080/",
          "height": 976
        },
        "id": "JF-9Z475ctab",
        "outputId": "fe41d5a5-1ca4-4b1c-caa6-ee4e9276c63d"
      },
      "execution_count": null,
      "outputs": [
        {
          "output_type": "execute_result",
          "data": {
            "image/png": "[encoded data removed]",
            "text/plain": [
              "<IPython.core.display.Image object>"
            ]
          },
          "metadata": {},
          "execution_count": 34
        }
      ]
    },
    {
      "cell_type": "code",
      "source": [
        "# Compile the network with appropriate settings for loss, optimizer and metrics.\n",
        "model_CNN.compile(loss='sparse_categorical_crossentropy', \n",
        "                  optimizer='adam', \n",
        "                  metrics=['accuracy'])\n",
        "\n",
        "#Training the model. \n",
        "history_CNN = model_CNN.fit(x=X_train_std, \n",
        "                            y=y_train, \n",
        "                            epochs=25, \n",
        "                            validation_split=0.1, \n",
        "                            batch_size=32)\n",
        "\n",
        "#history_cnn (dictionary) captures the loss and accuracy in ech epoch and stores "
      ],
      "metadata": {
        "colab": {
          "base_uri": "https://localhost:8080/"
        },
        "id": "hwcKnnpLc5n0",
        "outputId": "cb346317-ba95-4c58-ff66-818728ac84cb"
      },
      "execution_count": null,
      "outputs": [
        {
          "output_type": "stream",
          "name": "stdout",
          "text": [
            "Epoch 1/25\n",
            "12/12 [==============================] - 12s 211ms/step - loss: 24.2795 - accuracy: 0.2556 - val_loss: 1.5454 - val_accuracy: 0.2000\n",
            "Epoch 2/25\n",
            "12/12 [==============================] - 2s 164ms/step - loss: 1.4469 - accuracy: 0.4528 - val_loss: 1.3826 - val_accuracy: 0.4750\n",
            "Epoch 3/25\n",
            "12/12 [==============================] - 2s 164ms/step - loss: 1.2474 - accuracy: 0.4806 - val_loss: 1.3046 - val_accuracy: 0.4000\n",
            "Epoch 4/25\n",
            "12/12 [==============================] - 2s 165ms/step - loss: 1.0979 - accuracy: 0.6389 - val_loss: 1.3427 - val_accuracy: 0.4250\n",
            "Epoch 5/25\n",
            "12/12 [==============================] - 2s 165ms/step - loss: 0.9161 - accuracy: 0.6611 - val_loss: 1.5297 - val_accuracy: 0.4000\n",
            "Epoch 6/25\n",
            "12/12 [==============================] - 2s 164ms/step - loss: 0.6643 - accuracy: 0.7917 - val_loss: 1.4142 - val_accuracy: 0.3750\n",
            "Epoch 7/25\n",
            "12/12 [==============================] - 2s 166ms/step - loss: 0.5054 - accuracy: 0.8194 - val_loss: 1.9761 - val_accuracy: 0.3750\n",
            "Epoch 8/25\n",
            "12/12 [==============================] - 2s 169ms/step - loss: 0.3394 - accuracy: 0.9028 - val_loss: 2.0541 - val_accuracy: 0.3500\n",
            "Epoch 9/25\n",
            "12/12 [==============================] - 2s 165ms/step - loss: 0.3408 - accuracy: 0.9167 - val_loss: 1.6634 - val_accuracy: 0.4750\n",
            "Epoch 10/25\n",
            "12/12 [==============================] - 2s 166ms/step - loss: 0.2439 - accuracy: 0.9556 - val_loss: 1.8564 - val_accuracy: 0.4000\n",
            "Epoch 11/25\n",
            "12/12 [==============================] - 2s 171ms/step - loss: 0.1025 - accuracy: 0.9806 - val_loss: 1.9441 - val_accuracy: 0.3750\n",
            "Epoch 12/25\n",
            "12/12 [==============================] - 2s 167ms/step - loss: 0.0463 - accuracy: 0.9889 - val_loss: 2.0118 - val_accuracy: 0.4000\n",
            "Epoch 13/25\n",
            "12/12 [==============================] - 2s 164ms/step - loss: 0.0157 - accuracy: 1.0000 - val_loss: 2.3453 - val_accuracy: 0.3750\n",
            "Epoch 14/25\n",
            "12/12 [==============================] - 2s 167ms/step - loss: 0.0044 - accuracy: 1.0000 - val_loss: 2.4869 - val_accuracy: 0.3500\n",
            "Epoch 15/25\n",
            "12/12 [==============================] - 2s 165ms/step - loss: 0.0016 - accuracy: 1.0000 - val_loss: 2.4839 - val_accuracy: 0.4500\n",
            "Epoch 16/25\n",
            "12/12 [==============================] - 2s 166ms/step - loss: 7.6128e-04 - accuracy: 1.0000 - val_loss: 2.4465 - val_accuracy: 0.4750\n",
            "Epoch 17/25\n",
            "12/12 [==============================] - 2s 166ms/step - loss: 4.5398e-04 - accuracy: 1.0000 - val_loss: 2.4218 - val_accuracy: 0.5000\n",
            "Epoch 18/25\n",
            "12/12 [==============================] - 2s 167ms/step - loss: 3.4051e-04 - accuracy: 1.0000 - val_loss: 2.4082 - val_accuracy: 0.5250\n",
            "Epoch 19/25\n",
            "12/12 [==============================] - 2s 165ms/step - loss: 2.7026e-04 - accuracy: 1.0000 - val_loss: 2.4052 - val_accuracy: 0.5000\n",
            "Epoch 20/25\n",
            "12/12 [==============================] - 2s 166ms/step - loss: 2.1949e-04 - accuracy: 1.0000 - val_loss: 2.4048 - val_accuracy: 0.5000\n",
            "Epoch 21/25\n",
            "12/12 [==============================] - 2s 165ms/step - loss: 1.9272e-04 - accuracy: 1.0000 - val_loss: 2.4053 - val_accuracy: 0.5000\n",
            "Epoch 22/25\n",
            "12/12 [==============================] - 2s 174ms/step - loss: 1.7101e-04 - accuracy: 1.0000 - val_loss: 2.4128 - val_accuracy: 0.5000\n",
            "Epoch 23/25\n",
            "12/12 [==============================] - 2s 166ms/step - loss: 1.5399e-04 - accuracy: 1.0000 - val_loss: 2.4219 - val_accuracy: 0.5000\n",
            "Epoch 24/25\n",
            "12/12 [==============================] - 2s 164ms/step - loss: 1.3863e-04 - accuracy: 1.0000 - val_loss: 2.4289 - val_accuracy: 0.5000\n",
            "Epoch 25/25\n",
            "12/12 [==============================] - 2s 171ms/step - loss: 1.2756e-04 - accuracy: 1.0000 - val_loss: 2.4366 - val_accuracy: 0.5000\n"
          ]
        }
      ]
    },
    {
      "cell_type": "code",
      "source": [
        "history_CNN.history.items()"
      ],
      "metadata": {
        "colab": {
          "base_uri": "https://localhost:8080/"
        },
        "id": "7PZeMFlUdC6c",
        "outputId": "085ce8a0-26a5-4cbc-e2f0-854073caf3b3"
      },
      "execution_count": null,
      "outputs": [
        {
          "output_type": "execute_result",
          "data": {
            "text/plain": [
              "dict_items([('loss', [24.279495239257812, 1.4468753337860107, 1.247440218925476, 1.0978978872299194, 0.9161107540130615, 0.664289653301239, 0.5053543448448181, 0.3393692970275879, 0.34079521894454956, 0.2439267486333847, 0.1025351732969284, 0.04629845544695854, 0.01566091738641262, 0.00436068419367075, 0.001641079317778349, 0.000761279952712357, 0.00045398081419989467, 0.00034050847170874476, 0.0002702564524952322, 0.00021949195070192218, 0.00019271955534350127, 0.0001710086507955566, 0.00015398980758618563, 0.00013863419007975608, 0.0001275618706131354]), ('accuracy', [0.25555557012557983, 0.45277777314186096, 0.48055556416511536, 0.6388888955116272, 0.6611111164093018, 0.7916666865348816, 0.8194444179534912, 0.9027777910232544, 0.9166666865348816, 0.9555555582046509, 0.980555534362793, 0.9888888597488403, 1.0, 1.0, 1.0, 1.0, 1.0, 1.0, 1.0, 1.0, 1.0, 1.0, 1.0, 1.0, 1.0]), ('val_loss', [1.545407772064209, 1.3826247453689575, 1.3046118021011353, 1.3427402973175049, 1.5296980142593384, 1.4141631126403809, 1.976088523864746, 2.05409574508667, 1.6633535623550415, 1.8564220666885376, 1.9441192150115967, 2.011810779571533, 2.34527325630188, 2.486903429031372, 2.4838931560516357, 2.4464685916900635, 2.421767473220825, 2.408156633377075, 2.405177116394043, 2.4048361778259277, 2.405306339263916, 2.412818193435669, 2.421928644180298, 2.4288811683654785, 2.4365646839141846]), ('val_accuracy', [0.20000000298023224, 0.4749999940395355, 0.4000000059604645, 0.42500001192092896, 0.4000000059604645, 0.375, 0.375, 0.3499999940395355, 0.4749999940395355, 0.4000000059604645, 0.375, 0.4000000059604645, 0.375, 0.3499999940395355, 0.44999998807907104, 0.4749999940395355, 0.5, 0.5249999761581421, 0.5, 0.5, 0.5, 0.5, 0.5, 0.5, 0.5])])"
            ]
          },
          "metadata": {},
          "execution_count": 36
        }
      ]
    },
    {
      "cell_type": "code",
      "source": [
        "keys = ['accuracy', 'val_accuracy']\n",
        "progress = {k:v for k,v in history_CNN.history.items() if k in keys} #returns the training accuracy and validation accuracy as two separate lists,\n",
        "                                                                      #attached with the keys in a dictionary format \n",
        "\n",
        "import pandas as pd\n",
        "pd.DataFrame(progress).plot()\n",
        "\n",
        "plt.xlabel(\"epochs\")\n",
        "plt.ylabel(\"accuracy\")\n",
        "\n",
        "plt.grid(True)\n",
        "plt.show()"
      ],
      "metadata": {
        "colab": {
          "base_uri": "https://localhost:8080/",
          "height": 279
        },
        "id": "B9sLhdlLeSUE",
        "outputId": "8ee05e16-409a-4baa-afb4-a6007da17b36"
      },
      "execution_count": null,
      "outputs": [
        {
          "output_type": "display_data",
          "data": {
            "text/plain": [
              "<Figure size 432x288 with 1 Axes>"
            ],
            "image/png": "[encoded data removed]"
          },
          "metadata": {
            "needs_background": "light"
          }
        }
      ]
    },
    {
      "cell_type": "code",
      "source": [
        "\n",
        "# Pass the appropriate arguments for evaluate function.\n",
        "test_loss, test_accuracy = model_CNN.evaluate(X_test_std, Y_test)\n",
        "\n",
        "print(\"Test-loss: %f, Test-accuracy: %f\" % (test_loss,  test_accuracy))"
      ],
      "metadata": {
        "colab": {
          "base_uri": "https://localhost:8080/"
        },
        "id": "6PskEWRqeywu",
        "outputId": "7d4564d7-74ad-485f-e67d-1b966dbb2e5d"
      },
      "execution_count": null,
      "outputs": [
        {
          "output_type": "stream",
          "name": "stdout",
          "text": [
            "4/4 [==============================] - 0s 93ms/step - loss: 3.4331 - accuracy: 0.4700\n",
            "Test-loss: 3.433104, Test-accuracy: 0.470000\n"
          ]
        }
      ]
    },
    {
      "cell_type": "code",
      "source": [
        "cProba = model_CNN.predict(X_test_std[:10])\n",
        "\n",
        "print(cProba)"
      ],
      "metadata": {
        "colab": {
          "base_uri": "https://localhost:8080/"
        },
        "id": "0uOdmfTEfpLn",
        "outputId": "7cb06746-ec31-45d0-a718-bb86d75bbc9a"
      },
      "execution_count": null,
      "outputs": [
        {
          "output_type": "stream",
          "name": "stdout",
          "text": [
            "1/1 [==============================] - 0s 356ms/step\n",
            "[[9.8837602e-01 7.7485347e-05 1.4237119e-04 1.1403135e-02 9.5724613e-07]\n",
            " [9.3079299e-01 2.2688177e-03 6.6667847e-02 1.5457282e-04 1.1579078e-04]\n",
            " [2.8762003e-19 8.7758984e-20 1.0636342e-02 2.0883948e-12 9.8936367e-01]\n",
            " [8.9430241e-03 3.0702190e-02 9.3835545e-01 6.5884466e-04 2.1340471e-02]\n",
            " [5.0276572e-01 4.1943115e-01 7.8795897e-03 6.9899477e-02 2.4046516e-05]\n",
            " [2.6005250e-04 4.3075733e-02 4.6135939e-04 9.5359743e-01 2.6054764e-03]\n",
            " [5.1686715e-04 7.8982657e-01 6.5616413e-04 2.0804687e-01 9.5349387e-04]\n",
            " [4.7079411e-08 2.6804621e-05 3.0241215e-01 8.5012690e-09 6.9756103e-01]\n",
            " [6.7040312e-01 5.2599635e-02 1.0454232e-01 1.6432352e-01 8.1313923e-03]\n",
            " [6.6784577e-04 1.5476747e-01 3.9573607e-01 2.0420773e-02 4.2840785e-01]]\n"
          ]
        }
      ]
    },
    {
      "cell_type": "code",
      "source": [
        "cLabel = np.argmax(cProba,axis=-1) \n",
        "\n",
        "print(cLabel)"
      ],
      "metadata": {
        "colab": {
          "base_uri": "https://localhost:8080/"
        },
        "id": "KZywcJi-fx3d",
        "outputId": "a1958496-7f81-46ab-eb1f-3f55836b82a7"
      },
      "execution_count": null,
      "outputs": [
        {
          "output_type": "stream",
          "name": "stdout",
          "text": [
            "[0 0 4 2 0 3 1 4 0 4]\n"
          ]
        }
      ]
    },
    {
      "cell_type": "code",
      "source": [
        "\n",
        "print(Y_test[:10])"
      ],
      "metadata": {
        "id": "cSQtOcwhgNHW",
        "outputId": "d402b62a-3005-4f75-ac4d-d46e1a7dfa74",
        "colab": {
          "base_uri": "https://localhost:8080/"
        }
      },
      "execution_count": null,
      "outputs": [
        {
          "output_type": "stream",
          "name": "stdout",
          "text": [
            "[2 3 2 0 0 3 1 2 3 4]\n"
          ]
        }
      ]
    }
  ]
}